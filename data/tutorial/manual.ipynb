{
 "cells": [
  {
   "cell_type": "code",
   "execution_count": 20,
   "id": "f0bc4e31-775f-4c28-9851-9553d7b05937",
   "metadata": {},
   "outputs": [],
   "source": [
    "import pyWitness\n",
    "from matplotlib.pyplot import *\n",
    "import numpy"
   ]
  },
  {
   "cell_type": "markdown",
   "id": "97639222-1e8a-4337-ae11-0c8df15927a1",
   "metadata": {},
   "source": [
    "# Tutorial"
   ]
  },
  {
   "cell_type": "markdown",
   "id": "fd2ff722-7332-4100-ab73-a50c55e9e58e",
   "metadata": {},
   "source": [
    "## Checking and exploring loaded data"
   ]
  },
  {
   "cell_type": "code",
   "execution_count": null,
   "id": "838bf97f-7c23-4ddd-8b16-60f6936038f5",
   "metadata": {},
   "outputs": [],
   "source": [
    "import pyWitness\n",
    "dr = pyWitness.DataRaw(\"test1.csv\")"
   ]
  },
  {
   "cell_type": "code",
   "execution_count": null,
   "id": "8bcb92b3-c3ce-4870-8c78-e9e7691a42bd",
   "metadata": {},
   "outputs": [],
   "source": [
    "import pyWitness\n",
    "dr = pyWitness.DataRaw(\"test1.csv\")\n",
    "dr.checkData()"
   ]
  },
  {
   "cell_type": "code",
   "execution_count": null,
   "id": "ec1231a9-cf4e-42d5-93ef-d6600ca0ae8c",
   "metadata": {},
   "outputs": [],
   "source": [
    "import pyWitness\n",
    "dr = pyWitness.DataRaw(\"test1.csv\")\n",
    "dr.columnValues(\"responseTime\")"
   ]
  },
  {
   "cell_type": "code",
   "execution_count": 11,
   "id": "001b9e0b-5d5b-4b19-a841-dff391075413",
   "metadata": {},
   "outputs": [
    {
     "name": "stdout",
     "output_type": "stream",
     "text": [
      "DataRaw.checkData>\n",
      "DataRaw.checkData> columns       : ['Unnamed: 0' 'participantId' 'lineupSize' 'targetLineup' 'responseType'\n",
      " 'confidence' 'responseTime']\n",
      "DataRaw.checkData> lineupSize    : [6]\n",
      "DataRaw.checkData> targetLineup  : ['targetAbsent' 'targetPresent']\n",
      "DataRaw.checkData> responseType  : ['fillerId' 'rejectId' 'suspectId']\n",
      "DataRaw.checkData> confidence    : [  0  10  20  30  40  50  60  70  80  90 100]\n",
      "DataRaw.checkData> number trials : 890\n"
     ]
    }
   ],
   "source": [
    "import pyWitness\n",
    "dr = pyWitness.DataRaw(\"test1.xlsx\",\"test1\")"
   ]
  },
  {
   "cell_type": "markdown",
   "id": "3c0a39df-fef7-4a94-b9d4-cdaa0804b023",
   "metadata": {},
   "source": [
    "## Processing raw experimental data"
   ]
  },
  {
   "cell_type": "code",
   "execution_count": null,
   "id": "47d2c447-7f1b-4063-b0e4-f58ddee41af1",
   "metadata": {},
   "outputs": [],
   "source": [
    "import pyWitness\n",
    "dr = pyWitness.DataRaw(\"test1.csv\")\n",
    "dp = dr.process()"
   ]
  },
  {
   "cell_type": "code",
   "execution_count": null,
   "id": "37833303-957d-4048-af6d-0996112c4a87",
   "metadata": {},
   "outputs": [],
   "source": [
    "import pyWitness\n",
    "dr = pyWitness.DataRaw(\"test1.csv\")\n",
    "dp = dr.process()\n",
    "dp.printPivot()\n",
    "dp.printRates()"
   ]
  },
  {
   "cell_type": "code",
   "execution_count": null,
   "id": "d22d2149-1b56-4d6a-8ebc-115648c984cf",
   "metadata": {},
   "outputs": [],
   "source": [
    "import pyWitness\n",
    "dr = pyWitness.DataRaw(\"test1.csv\")\n",
    "dp = dr.process()\n",
    "dp.printDescriptiveStats()"
   ]
  },
  {
   "cell_type": "markdown",
   "id": "cb6e905c-4d46-4016-9e1e-2d7163a86221",
   "metadata": {},
   "source": [
    "## Plotting ROC curves"
   ]
  },
  {
   "cell_type": "code",
   "execution_count": null,
   "id": "d3826fe7-79e6-4543-8371-bbfa05f3cfbd",
   "metadata": {},
   "outputs": [],
   "source": [
    "import pyWitness\n",
    "dr = pyWitness.DataRaw(\"test1.csv\")\n",
    "dp = dr.process()\n",
    "dp.plotROC()"
   ]
  },
  {
   "cell_type": "markdown",
   "id": "9bfbb78e-90bf-4f2e-bf4b-814bb054782c",
   "metadata": {},
   "source": [
    "## Plotting CAC curves"
   ]
  },
  {
   "cell_type": "code",
   "execution_count": null,
   "id": "700b37a2-e3a1-4037-baef-2f1021b1fadf",
   "metadata": {},
   "outputs": [],
   "source": [
    "import pyWitness\n",
    "dr = pyWitness.DataRaw(\"test1.csv\")\n",
    "dp = dr.process()\n",
    "dp.plotCAC()"
   ]
  },
  {
   "cell_type": "markdown",
   "id": "b864ab0b-5fc2-48ae-8657-6b3c06b33c0d",
   "metadata": {},
   "source": [
    "## Collapsing the categorical data"
   ]
  },
  {
   "cell_type": "code",
   "execution_count": 19,
   "id": "07f0d9ad-9b93-4466-aba8-a4255375845e",
   "metadata": {},
   "outputs": [
    {
     "name": "stdout",
     "output_type": "stream",
     "text": [
      "DataRaw.checkData>\n",
      "DataRaw.checkData> columns       : ['Unnamed: 0' 'participantId' 'lineupSize' 'targetLineup' 'responseType'\n",
      " 'confidence' 'responseTime']\n",
      "DataRaw.checkData> lineupSize    : [6]\n",
      "DataRaw.checkData> targetLineup  : ['targetAbsent' 'targetPresent']\n",
      "DataRaw.checkData> responseType  : ['fillerId' 'rejectId' 'suspectId']\n",
      "DataRaw.checkData> confidence    : [  0  10  20  30  40  50  60  70  80  90 100]\n",
      "DataRaw.checkData> number trials : 890\n"
     ]
    },
    {
     "data": {
      "text/plain": [
       "(0.5, 1.0)"
      ]
     },
     "execution_count": 19,
     "metadata": {},
     "output_type": "execute_result"
    },
    {
     "data": {
      "image/png": "[encoded data removed]",
      "text/plain": [
       "<Figure size 640x480 with 1 Axes>"
      ]
     },
     "metadata": {},
     "output_type": "display_data"
    }
   ],
   "source": [
    "import pyWitness\n",
    "dr = pyWitness.DataRaw(\"test1.csv\")\n",
    "dr.collapseCategoricalData(column='confidence',\n",
    "                           map={0: 30, 10: 30, 20: 30, 30: 30, 40: 30, 50: 30, 60: 30,\n",
    "                                70: 75, 80: 75,\n",
    "                                90: 95, 100: 95})\n",
    "dp = dr.process()\n",
    "dp.plotCAC()\n",
    "\n",
    "#######\n",
    "xlim(0,100)\n",
    "ylim(0.50,1.0)"
   ]
  },
  {
   "cell_type": "markdown",
   "id": "62b65d64-4a87-4335-8b07-ff55e3416d4e",
   "metadata": {},
   "source": [
    "## Collapsing (binning) continuous data"
   ]
  },
  {
   "cell_type": "code",
   "execution_count": null,
   "id": "257e8b8a-513f-4677-9897-db4619b7a8cc",
   "metadata": {},
   "outputs": [],
   "source": [
    "import pyWitness\n",
    "dr = pyWitness.DataRaw(\"test1.csv\")\n",
    "dr.collapseContinuousData(column = \"confidence\",bins = [-1,60,80,100],labels= [1,2,3])\n",
    "dp = dr.process()\n",
    "dp.plotROC()"
   ]
  },
  {
   "cell_type": "markdown",
   "id": "8c73e874-4779-4fca-bcaf-338a75eb548e",
   "metadata": {},
   "source": [
    "## Calculating pAUC and performing statistical tests"
   ]
  },
  {
   "cell_type": "code",
   "execution_count": null,
   "id": "84b95cc9-af64-408c-befa-36763d8860cc",
   "metadata": {},
   "outputs": [],
   "source": [
    "import pyWitness\n",
    "dr = pyWitness.DataRaw(\"test1.csv\")\n",
    "dr.collapseContinuousData(column = \"confidence\",bins = [-1,60,80,100],labels= [1,2,3])\n",
    "dp = dr.process()\n",
    "print(dp.pAUC)"
   ]
  },
  {
   "cell_type": "markdown",
   "id": "3d4d92da-8f9c-4b67-8843-4645189d2226",
   "metadata": {},
   "source": [
    "## Plotting RAC curves"
   ]
  },
  {
   "cell_type": "code",
   "execution_count": null,
   "id": "8aab7721-ded6-46eb-9227-790f1e8bf62d",
   "metadata": {},
   "outputs": [],
   "source": [
    "import pyWitness\n",
    "drRAC = pyWitness.DataRaw(\"test1.csv\")\n",
    "drRAC.collapseContinuousData(column=\"responseTime\",\n",
    "                    bins=[0, 5000, 10000, 15000, 20000, 99999],\n",
    "                        labels=[1, 2, 3, 4, 5])\n",
    "dpRAC = drRAC.process(reverseConfidence=True,dependentVariable=\"responseTime\")\n",
    "dpRAC.plotCAC()\n",
    "import matplotlib as _plt\n",
    "xlabel(\"Response time\")\n",
    "ylim(.50,1.0)\n",
    "#savefig(\"test1RAC.png\")\n",
    "#savefig(\"test1RAC.pdf\")"
   ]
  },
  {
   "cell_type": "markdown",
   "id": "a752591b-2799-4fb3-bc2c-6508b6ae6422",
   "metadata": {},
   "source": [
    "## Fitting signal detection-based models to data"
   ]
  },
  {
   "cell_type": "code",
   "execution_count": null,
   "id": "8a38b48b-0738-43da-aa3f-1e8b040206b4",
   "metadata": {},
   "outputs": [],
   "source": [
    "import pyWitness\n",
    "dr = pyWitness.DataRaw(\"test1.csv\")\n",
    "dr.collapseContinuousData(column = \"confidence\",bins = [-1,60,80,100],labels= [1,2,3])\n",
    "dp = dr.process()\n",
    "mf = pyWitness.ModelFitIndependentObservation(dp)\n",
    "mf.setEqualVariance()\n",
    "mf.fit()"
   ]
  },
  {
   "cell_type": "code",
   "execution_count": 14,
   "id": "6963055a-5743-40b3-883e-7c1b49e22e1b",
   "metadata": {},
   "outputs": [
    {
     "name": "stdout",
     "output_type": "stream",
     "text": [
      "DataRaw.checkData>\n",
      "DataRaw.checkData> columns       : ['Unnamed: 0' 'participantId' 'lineupSize' 'targetLineup' 'responseType'\n",
      " 'confidence' 'responseTime']\n",
      "DataRaw.checkData> lineupSize    : [6]\n",
      "DataRaw.checkData> targetLineup  : ['targetAbsent' 'targetPresent']\n",
      "DataRaw.checkData> responseType  : ['fillerId' 'rejectId' 'suspectId']\n",
      "DataRaw.checkData> confidence    : [  0  10  20  30  40  50  60  70  80  90 100]\n",
      "DataRaw.checkData> number trials : 890\n",
      "ModelFit.printParameters>  lureMean 0.000 (free)\n",
      "ModelFit.printParameters>  lureSigma 1.000 (free)\n",
      "ModelFit.printParameters>  targetMean 1.000 (free)\n",
      "ModelFit.printParameters>  targetSigma 1.000 (free)\n",
      "ModelFit.printParameters>  lureBetweenSigma 0.000 (free)\n",
      "ModelFit.printParameters>  targetBetweenSigma 0.000 (free)\n",
      "ModelFit.printParameters>  c1 1.000 (free)\n",
      "ModelFit.printParameters>  c2 1.500 (free)\n",
      "ModelFit.printParameters>  c3 2.000 (free)\n"
     ]
    }
   ],
   "source": [
    "import pyWitness\n",
    "dr = pyWitness.DataRaw(\"test1.csv\")\n",
    "dr.collapseContinuousData(column = \"confidence\",bins = [-1,60,80,100],labels= [1,2,3])\n",
    "dp = dr.process()\n",
    "mf = pyWitness.ModelFitIndependentObservation(dp)\n",
    "mf.printParameters()"
   ]
  },
  {
   "cell_type": "code",
   "execution_count": null,
   "id": "580b44fb-2e59-4b23-9588-541e4adcfa38",
   "metadata": {},
   "outputs": [],
   "source": [
    "mf.setEqualVariance()\n",
    "mf.printParameters()"
   ]
  },
  {
   "cell_type": "code",
   "execution_count": null,
   "id": "ae59bf58-0533-4061-96ee-f76fb0461442",
   "metadata": {},
   "outputs": [
    {
     "name": "stdout",
     "output_type": "stream",
     "text": [
      "fit iterations 506\n",
      "fit status     Optimization terminated successfully.\n",
      "fit time       26.014116374999503\n",
      "fit chi2       8.78967472876508\n",
      "fit ndf        0\n",
      "fit chi2/ndf   inf\n",
      "fit p-value    nan\n",
      "ModelFit.printParameters>  lureMean 0.001 (free)\n",
      "ModelFit.printParameters>  lureSigma 0.773 (free)\n",
      "ModelFit.printParameters>  targetMean 1.518 (free)\n",
      "ModelFit.printParameters>  targetSigma 0.577 (free)\n",
      "ModelFit.printParameters>  lureBetweenSigma 0.001 (free)\n",
      "ModelFit.printParameters>  targetBetweenSigma 0.000 (free)\n",
      "ModelFit.printParameters>  c1 1.279 (free)\n",
      "ModelFit.printParameters>  c2 1.611 (free)\n",
      "ModelFit.printParameters>  c3 2.065 (free)\n"
     ]
    }
   ],
   "source": [
    "mf.fit()\n",
    "mf.printParameters()"
   ]
  },
  {
   "cell_type": "code",
   "execution_count": null,
   "id": "0a3e9f42-17f9-40f3-9f8f-bd24752887dd",
   "metadata": {},
   "outputs": [],
   "source": [
    "dr = pyWitness.DataRaw(\"test1.csv\")\n",
    "dr.collapseContinuousData(column=\"confidence\")\n",
    "dp = dr.process()\n",
    "\n",
    "mf_io = pyWitness.ModelFitIndependentObservation(dp)\n",
    "mf_br = pyWitness.ModelFitBestRest(dp)\n",
    "mf_en = pyWitness.ModelFitEnsemble(dp)\n",
    "mf_in = pyWitness.ModelFitIntegration(dp)"
   ]
  },
  {
   "cell_type": "markdown",
   "id": "c6446cd4-7fb2-4908-9e39-d6469d793898",
   "metadata": {
    "tags": []
   },
   "source": [
    "## Setting initial fit parameters"
   ]
  },
  {
   "cell_type": "code",
   "execution_count": null,
   "id": "6fb09dc8-3a6d-4330-ad2a-e302fd3fb0f6",
   "metadata": {},
   "outputs": [],
   "source": [
    "import pyWitness\n",
    "dr = pyWitness.DataRaw(\"test1.csv\")\n",
    "dr.collapseContinuousData(column = \"confidence\",bins = [-1,60,80,100],labels= [1,2,3])\n",
    "dp = dr.process()\n",
    "dp.plotHitVsFalseAlarmRate()\n",
    "savefig('HvFA.png')"
   ]
  },
  {
   "cell_type": "code",
   "execution_count": null,
   "id": "058ab8a7-74d6-4495-a45a-b231d9ab704f",
   "metadata": {},
   "outputs": [],
   "source": [
    "import pyWitness\n",
    "dr = pyWitness.DataRaw(\"test1.csv\")\n",
    "dr.collapseContinuousData(column = \"confidence\",bins = [-1,60,80,100],labels= [1,2,3])\n",
    "dp = dr.process()\n",
    "mf = pyWitness.ModelFitIndependentObservation(dp)\n",
    "mf.printParameters()"
   ]
  },
  {
   "cell_type": "code",
   "execution_count": null,
   "id": "1e3a2c67-8e08-4958-8750-aa27f6a4285f",
   "metadata": {},
   "outputs": [],
   "source": [
    "mf.setEqualVariance()\n",
    "mf.setParameterEstimates()\n",
    "mf.printParameters()"
   ]
  },
  {
   "cell_type": "code",
   "execution_count": null,
   "id": "bc82b1fa-c720-450f-83aa-3c205d73b782",
   "metadata": {},
   "outputs": [],
   "source": [
    "mf.fit()\n",
    "mf.printParameters()"
   ]
  },
  {
   "cell_type": "markdown",
   "id": "910a7fba-0e2b-4ec1-906b-afd4d5b50dc9",
   "metadata": {},
   "source": [
    "## Plotting fit and models"
   ]
  },
  {
   "cell_type": "code",
   "execution_count": null,
   "id": "1d64efa4-1bbf-404f-9712-25c0c640c283",
   "metadata": {},
   "outputs": [],
   "source": [
    "import pyWitness\n",
    "dr = pyWitness.DataRaw(\"test1.csv\")\n",
    "dr.collapseContinuousData(column = \"confidence\",bins = [-1,60,80,100],labels= None)\n",
    "dp = dr.process()\n",
    "dp.calculateConfidenceBootstrap(nBootstraps=200)\n",
    "mf = pyWitness.ModelFitIndependentObservation(dp)\n",
    "mf.setEqualVariance()\n",
    "mf.fit()"
   ]
  },
  {
   "cell_type": "code",
   "execution_count": null,
   "id": "708e6fa6-1b97-41ab-a9a3-d64ec69caca6",
   "metadata": {},
   "outputs": [],
   "source": [
    "import pyWitness\n",
    "dr = pyWitness.DataRaw(\"test1.csv\")\n",
    "dr.collapseContinuousData(column = \"confidence\",bins = [-1,60,80,100],labels= None)\n",
    "dp = dr.process()\n",
    "dp.calculateConfidenceBootstrap(nBootstraps=200)\n",
    "mf = pyWitness.ModelFitIndependentObservation(dp)\n",
    "mf.setEqualVariance()\n",
    "mf.fit()\n",
    "dp.plotROC(label=\"Data\")\n",
    "mf.plotROC(label=\"Indep. obs. fit\")\n",
    "legend()"
   ]
  },
  {
   "cell_type": "code",
   "execution_count": null,
   "id": "2616378e-2c31-45b3-ac95-093b218e8c63",
   "metadata": {},
   "outputs": [],
   "source": [
    "import pyWitness\n",
    "dr = pyWitness.DataRaw(\"test1.csv\")\n",
    "dr.collapseContinuousData(column = \"confidence\",bins = [-1,60,80,100],labels= None)\n",
    "dp = dr.process()\n",
    "dp.calculateConfidenceBootstrap(nBootstraps=200)\n",
    "mf = pyWitness.ModelFitIndependentObservation(dp)\n",
    "mf.setEqualVariance()\n",
    "mf.fit()\n",
    "dp.plotROC(label=\"Data\")\n",
    "mf.plotROC(label=\"Indep. obs. fit\")\n",
    "legend()\n",
    "mf.plotFit()\n",
    "mf.d"
   ]
  },
  {
   "cell_type": "code",
   "execution_count": 21,
   "id": "278f6cfb-c8cd-47ec-bcc3-3f8a8f493ef1",
   "metadata": {},
   "outputs": [
    {
     "name": "stdout",
     "output_type": "stream",
     "text": [
      "DataRaw.checkData>\n",
      "DataRaw.checkData> columns       : ['Unnamed: 0' 'participantId' 'lineupSize' 'targetLineup' 'responseType'\n",
      " 'confidence' 'responseTime']\n",
      "DataRaw.checkData> lineupSize    : [6]\n",
      "DataRaw.checkData> targetLineup  : ['targetAbsent' 'targetPresent']\n",
      "DataRaw.checkData> responseType  : ['fillerId' 'rejectId' 'suspectId']\n",
      "DataRaw.checkData> confidence    : [  0  10  20  30  40  50  60  70  80  90 100]\n",
      "DataRaw.checkData> number trials : 890\n",
      "fit iterations 223\n",
      "fit status     Optimization terminated successfully.\n",
      "fit time       3.887552500000311\n",
      "fit chi2       10.300411274463412\n",
      "fit ndf        4\n",
      "fit chi2/ndf   2.575102818615853\n",
      "fit p-value    0.03566019782522267\n"
     ]
    },
    {
     "data": {
      "image/png": "[encoded data removed]",
      "text/plain": [
       "<Figure size 640x480 with 1 Axes>"
      ]
     },
     "metadata": {},
     "output_type": "display_data"
    },
    {
     "data": {
      "image/png": "[encoded data removed]",
      "text/plain": [
       "<Figure size 640x480 with 5 Axes>"
      ]
     },
     "metadata": {},
     "output_type": "display_data"
    }
   ],
   "source": [
    "import pyWitness\n",
    "dr = pyWitness.DataRaw(\"test1.csv\")\n",
    "dr.collapseContinuousData(column = \"confidence\",bins = [-1,60,80,100],labels= None)\n",
    "dp = dr.process()\n",
    "dp.calculateConfidenceBootstrap(nBootstraps=200)\n",
    "mf = pyWitness.ModelFitIndependentObservation(dp)\n",
    "mf.setEqualVariance()\n",
    "mf.fit()\n",
    "dp.plotROC(label=\"Data\")\n",
    "mf.plotROC(label=\"Indep. obs. fit\")\n",
    "legend()\n",
    "mf.plotFit()"
   ]
  },
  {
   "cell_type": "code",
   "execution_count": 22,
   "id": "338bea29-1755-4f9e-ba9f-81b58f7544cd",
   "metadata": {},
   "outputs": [
    {
     "data": {
      "text/plain": [
       "<matplotlib.legend.Legend at 0x137fe86a0>"
      ]
     },
     "execution_count": 22,
     "metadata": {},
     "output_type": "execute_result"
    },
    {
     "data": {
      "image/png": "[encoded data removed]",
      "text/plain": [
       "<Figure size 640x480 with 1 Axes>"
      ]
     },
     "metadata": {},
     "output_type": "display_data"
    }
   ],
   "source": [
    "dp.plotCAC(label=\"Data\")\n",
    "mf.plotCAC(label=\"Indep. obs. fit\")\n",
    "\n",
    "import matplotlib.pyplot as _plt\n",
    "_plt.legend()"
   ]
  },
  {
   "cell_type": "code",
   "execution_count": null,
   "id": "89194255-f03c-4082-993f-2b54cd4cdbd5",
   "metadata": {},
   "outputs": [],
   "source": [
    "mf.plotModel()"
   ]
  },
  {
   "cell_type": "code",
   "execution_count": null,
   "id": "a855e82b-1556-43ce-9ea5-29fab9144ad8",
   "metadata": {},
   "outputs": [],
   "source": [
    "mf.d"
   ]
  },
  {
   "cell_type": "markdown",
   "id": "3c96432b-3255-4312-b71b-0a4a1bbeccd6",
   "metadata": {},
   "source": [
    "## Writing results to file"
   ]
  },
  {
   "cell_type": "code",
   "execution_count": null,
   "id": "41a69c5d-83f1-419c-8eda-d05b928fc5f4",
   "metadata": {},
   "outputs": [],
   "source": [
    "import pyWitness\n",
    "dr = pyWitness.DataRaw(\"test1.csv\")\n",
    "dp = dr.process()\n",
    "dp.writePivotExcel(\"test1_pivot.xlsx\")\n",
    "dp.writePivotCsv(\"test1_pivot.csv\")\n",
    "dp.writeRatesExcel(\"test1_rates.xlsx\")\n",
    "dp.writeRatesCsv(\"test1_rates.csv\")"
   ]
  },
  {
   "cell_type": "markdown",
   "id": "988a59c4-c911-41e0-8e88-bca9dbc104e6",
   "metadata": {},
   "source": [
    "# Advanced tutorial"
   ]
  },
  {
   "cell_type": "markdown",
   "id": "9ed2e2df-044e-410d-a66b-bceba309077e",
   "metadata": {},
   "source": [
    "## Bootstrapping uncertainties/confidence limits"
   ]
  },
  {
   "cell_type": "code",
   "execution_count": null,
   "id": "05749b36-edc9-4ae7-82d7-609b13a7a16f",
   "metadata": {
    "tags": []
   },
   "outputs": [],
   "source": [
    "import pyWitness\n",
    "dr = pyWitness.DataRaw(\"test1.csv\")\n",
    "dr.collapseContinuousData(column = \"confidence\",bins = [-1,60,80,100],labels=None)\n",
    "dp = dr.process()\n",
    "dp.calculateConfidenceBootstrap(nBootstraps=200, cl=95)\n",
    "dp.printPivot()\n",
    "dp.printRates()"
   ]
  },
  {
   "cell_type": "code",
   "execution_count": null,
   "id": "f5a657e4-0f77-40b5-b8d7-53e17926942f",
   "metadata": {},
   "outputs": [],
   "source": [
    "import pyWitness\n",
    "dr = pyWitness.DataRaw(\"test1.csv\")\n",
    "dr.collapseContinuousData(column = \"confidence\",bins = [-1,60,80,100],labels=None)\n",
    "dp = dr.process()\n",
    "dp.calculateConfidenceBootstrap(nBootstraps=200, cl=95)\n",
    "dp.plotROC() "
   ]
  },
  {
   "cell_type": "code",
   "execution_count": null,
   "id": "76606f39-827b-4e46-8c63-63d55b9a8aeb",
   "metadata": {},
   "outputs": [],
   "source": [
    "import pyWitness\n",
    "dr = pyWitness.DataRaw(\"test1.csv\")\n",
    "dr.collapseContinuousData(column = \"confidence\",bins = [-1,60,80,100],labels=None)\n",
    "dp = dr.process()\n",
    "dp.calculateConfidenceBootstrap(nBootstraps=200, cl=95)\n",
    "dp.plotCAC() "
   ]
  },
  {
   "cell_type": "markdown",
   "id": "599ffae1-4ef6-42e2-9101-204344ccac06",
   "metadata": {},
   "source": [
    "## Loading raw data excel format"
   ]
  },
  {
   "cell_type": "code",
   "execution_count": null,
   "id": "56088036-5edd-4042-aff6-2b2eb182bdaa",
   "metadata": {},
   "outputs": [],
   "source": [
    "import pyWitness\n",
    "dr = pyWitness.DataRaw(\"test2.xlsx\",excelSheet = \"raw data\")"
   ]
  },
  {
   "cell_type": "markdown",
   "id": "91d376c1-6678-4816-82e2-2b00b6c259c5",
   "metadata": {},
   "source": [
    "## Transforming data into common format"
   ]
  },
  {
   "cell_type": "code",
   "execution_count": 6,
   "id": "e8996c61-ae57-47cf-ae74-064129279330",
   "metadata": {},
   "outputs": [
    {
     "name": "stdout",
     "output_type": "stream",
     "text": [
      "pyWitness v1.0 : Authorship - https://lmickes.github.io/pyWitness/authorship.html\n",
      "pyWitness      : Runtime warnings are suppressed\n",
      "pyWitness      : to reinstate (import warnings; warnings.simplefilter(\"\") \n",
      "DataRaw.checkData>\n",
      "DataRaw.checkData> columns       : ['Unnamed: 0' 'participantId' 'lineupSize' 'targetLineup' 'responseType'\n",
      " 'confidence' 'age' 'gender' 'group' 'previouslyViewedVideo']\n",
      "DataRaw.checkData> lineupSize    : [6]\n",
      "DataRaw.checkData> targetLineup  : [nan nan nan nan nan nan nan nan nan nan nan nan nan nan nan nan nan nan\n",
      " nan nan nan nan nan nan nan nan nan nan nan nan nan nan nan nan nan nan\n",
      " nan nan nan nan nan nan nan nan nan nan nan nan nan nan nan nan nan nan\n",
      " nan nan nan nan nan nan nan nan nan nan nan nan nan nan nan nan nan nan\n",
      " nan nan nan nan nan nan nan nan nan nan nan nan nan nan nan nan nan nan\n",
      " nan nan nan nan nan nan nan nan nan nan nan nan nan nan nan nan nan nan\n",
      " nan nan nan nan nan nan nan nan nan nan nan nan nan nan nan nan nan nan\n",
      " nan nan nan nan nan nan nan nan nan nan nan nan nan nan nan nan nan nan\n",
      " nan nan nan nan nan nan nan nan nan nan nan nan nan nan nan nan nan nan\n",
      " nan nan nan nan nan nan nan nan nan nan nan nan nan nan nan nan nan nan\n",
      " nan nan nan nan nan nan nan nan nan nan nan nan nan nan nan nan nan nan\n",
      " nan nan nan nan nan nan nan nan nan nan nan nan nan nan nan nan nan nan\n",
      " nan nan nan nan nan nan nan nan nan nan nan nan nan nan nan nan nan nan\n",
      " nan nan nan nan nan nan nan nan nan nan nan nan nan nan nan nan nan nan\n",
      " nan nan nan nan nan nan nan nan nan nan nan nan nan nan nan nan nan nan\n",
      " nan nan nan nan nan nan nan nan nan nan nan nan nan nan nan nan nan nan\n",
      " nan nan nan nan nan nan nan nan nan nan nan nan nan nan nan nan nan nan\n",
      " nan nan nan nan nan nan nan nan nan nan nan nan nan nan nan nan nan nan\n",
      " nan nan nan nan nan nan nan nan nan nan nan nan nan nan nan nan nan nan\n",
      " nan nan nan nan nan nan nan nan nan nan nan nan nan nan nan nan nan nan\n",
      " nan nan nan nan nan nan nan nan nan nan nan nan nan nan nan nan nan nan\n",
      " nan nan nan nan nan nan nan nan nan nan nan nan nan nan nan nan nan nan\n",
      " nan nan nan nan nan nan nan nan nan nan nan nan nan nan nan nan nan nan\n",
      " nan nan nan nan nan nan nan nan nan nan nan nan nan nan nan nan nan nan\n",
      " nan nan nan nan nan nan nan nan nan nan nan nan nan nan nan nan nan nan\n",
      " nan nan nan nan nan nan nan nan nan nan nan nan nan nan nan nan nan nan\n",
      " nan nan nan nan nan nan nan nan nan nan nan nan nan nan nan nan nan nan\n",
      " nan nan nan nan nan nan nan nan nan nan nan nan nan nan nan nan nan nan\n",
      " nan nan nan nan nan nan nan nan nan nan nan nan nan nan nan nan nan nan\n",
      " nan nan nan nan nan nan nan nan nan nan nan nan nan nan nan nan nan nan\n",
      " nan nan nan nan nan nan nan nan nan nan nan nan nan nan nan nan nan nan\n",
      " nan nan nan nan nan nan nan nan nan nan nan nan nan nan nan nan nan nan\n",
      " nan nan nan nan nan nan nan nan nan nan nan nan nan nan nan nan nan nan\n",
      " nan nan nan nan nan nan nan nan nan nan nan nan nan nan nan nan nan nan\n",
      " nan nan nan nan nan nan nan nan nan nan nan nan nan nan nan nan nan nan\n",
      " nan nan nan nan nan nan nan nan nan nan nan nan nan nan nan nan nan nan\n",
      " nan nan nan nan nan nan nan nan nan nan nan nan nan nan nan nan nan nan\n",
      " nan nan nan nan nan nan nan nan nan nan nan nan nan nan nan nan nan nan\n",
      " nan nan nan nan nan nan nan nan nan nan nan nan nan nan nan nan nan nan\n",
      " nan nan nan nan nan nan nan nan nan nan nan nan nan nan nan nan nan nan\n",
      " nan nan nan nan nan nan nan nan nan nan nan nan nan nan nan nan nan nan\n",
      " nan nan nan nan nan nan nan nan nan nan nan nan nan nan nan nan nan nan\n",
      " nan nan nan nan nan nan nan nan nan nan nan nan nan nan nan nan nan nan\n",
      " nan nan nan nan nan nan]\n",
      "DataRaw.checkData> responseType  : [nan nan nan nan nan nan nan nan nan nan nan nan nan nan nan nan nan nan\n",
      " nan nan nan nan nan nan nan nan nan nan nan nan nan nan nan nan nan nan\n",
      " nan nan nan nan nan nan nan nan nan nan nan nan nan nan nan nan nan nan\n",
      " nan nan nan nan nan nan nan nan nan nan nan nan nan nan nan nan nan nan\n",
      " nan nan nan nan nan nan nan nan nan nan nan nan nan nan nan nan nan nan\n",
      " nan nan nan nan nan nan nan nan nan nan nan nan nan nan nan nan nan nan\n",
      " nan nan nan nan nan nan nan nan nan nan nan nan nan nan nan nan nan nan\n",
      " nan nan nan nan nan nan nan nan nan nan nan nan nan nan nan nan nan nan\n",
      " nan nan nan nan nan nan nan nan nan nan nan nan nan nan nan nan nan nan\n",
      " nan nan nan nan nan nan nan nan nan nan nan nan nan nan nan nan nan nan\n",
      " nan nan nan nan nan nan nan nan nan nan nan nan nan nan nan nan nan nan\n",
      " nan nan nan nan nan nan nan nan nan nan nan nan nan nan nan nan nan nan\n",
      " nan nan nan nan nan nan nan nan nan nan nan nan nan nan nan nan nan nan\n",
      " nan nan nan nan nan nan nan nan nan nan nan nan nan nan nan nan nan nan\n",
      " nan nan nan nan nan nan nan nan nan nan nan nan nan nan nan nan nan nan\n",
      " nan nan nan nan nan nan nan nan nan nan nan nan nan nan nan nan nan nan\n",
      " nan nan nan nan nan nan nan nan nan nan nan nan nan nan nan nan nan nan\n",
      " nan nan nan nan nan nan nan nan nan nan nan nan nan nan nan nan nan nan\n",
      " nan nan nan nan nan nan nan nan nan nan nan nan nan nan nan nan nan nan\n",
      " nan nan nan nan nan nan nan nan nan nan nan nan nan nan nan nan nan nan\n",
      " nan nan nan nan nan nan nan nan nan nan nan nan nan nan nan nan nan nan\n",
      " nan nan nan nan nan nan nan nan nan nan nan nan nan nan nan nan nan nan\n",
      " nan nan nan nan nan nan nan nan nan nan nan nan nan nan nan nan nan nan\n",
      " nan nan nan nan nan nan nan nan nan nan nan nan nan nan nan nan nan nan\n",
      " nan nan nan nan nan nan nan nan nan nan nan nan nan nan nan nan nan nan\n",
      " nan nan nan nan nan nan nan nan nan nan nan nan nan nan nan nan nan nan\n",
      " nan nan nan nan nan nan nan nan nan nan nan nan nan nan nan nan nan nan\n",
      " nan nan nan nan nan nan nan nan nan nan nan nan nan nan nan nan nan nan\n",
      " nan nan nan nan nan nan nan nan nan nan nan nan nan nan nan nan nan nan\n",
      " nan nan nan nan nan nan nan nan nan nan nan nan nan nan nan nan nan nan\n",
      " nan nan nan nan nan nan nan nan nan nan nan nan nan nan nan nan nan nan\n",
      " nan nan nan nan nan nan nan nan nan nan nan nan nan nan nan nan nan nan\n",
      " nan nan nan nan nan nan nan nan nan nan nan nan nan nan nan nan nan nan\n",
      " nan nan nan nan nan nan nan nan nan nan nan nan nan nan nan nan nan nan\n",
      " nan nan nan nan nan nan nan nan nan nan nan nan nan nan nan nan nan nan\n",
      " nan nan nan nan nan nan nan nan nan nan nan nan nan nan nan nan nan nan\n",
      " nan nan nan nan nan nan nan nan nan nan nan nan nan nan nan nan nan nan\n",
      " nan nan nan nan nan nan nan nan nan nan nan nan nan nan nan nan nan nan\n",
      " nan nan nan nan nan nan nan nan nan nan nan nan nan nan nan nan nan nan\n",
      " nan nan nan nan nan nan nan nan nan nan nan nan nan nan nan nan nan nan\n",
      " nan nan nan nan nan nan nan nan nan nan nan nan nan nan nan nan nan nan\n",
      " nan nan nan nan nan nan nan nan nan nan nan nan nan nan nan nan nan nan\n",
      " nan nan nan nan nan nan nan nan nan nan nan nan nan nan nan nan nan nan\n",
      " nan nan nan nan nan nan]\n",
      "DataRaw.checkData> confidence    : [1 2 3 4 5 6 7]\n",
      "DataRaw.checkData> number trials : 780\n"
     ]
    }
   ],
   "source": [
    "import pyWitness\n",
    "dr = pyWitness.DataRaw(\"test2.csv\",\n",
    "                       dataMapping = {\"lineupSize\":\"lineup_size\",\n",
    "                                      \"targetLineup\":\"culprit_present\",\n",
    "                       \"targetPresent\":\"present\",\n",
    "                       \"targetAbsent\":\"absent\",\n",
    "                       \"responseType\":\"id_type\",\n",
    "                       \"suspectId\":\"suspect\",\n",
    "                       \"fillerId\":\"filler\",\n",
    "                       \"rejectId\":\"reject\",\n",
    "                       \"confidence\":\"conf_level\"})"
   ]
  },
  {
   "cell_type": "markdown",
   "id": "06fd6218-af1a-4b11-8ae5-16853246c870",
   "metadata": {},
   "source": [
    "## Processing data for two conditions"
   ]
  },
  {
   "cell_type": "code",
   "execution_count": null,
   "id": "00862514-b085-4d58-9a7f-e86e5eda4639",
   "metadata": {},
   "outputs": [],
   "source": [
    "import pyWitness\n",
    "dr = pyWitness.DataRaw(\"test2.csv\")\n",
    "dr.cutData(column=\"previouslyViewedVideo\",value=1,option=\"keep\")\n",
    "dpControl = dr.process(column=\"group\", condition=\"Control\")"
   ]
  },
  {
   "cell_type": "code",
   "execution_count": null,
   "id": "cd078de2-bda0-47b1-b7ce-d66b27003270",
   "metadata": {},
   "outputs": [],
   "source": [
    "import pyWitness\n",
    "dr = pyWitness.DataRaw(\"test2.csv\")\n",
    "dr.cutData(column=\"previouslyViewedVideo\",value=1,option=\"keep\")\n",
    "dpControl = dr.process(column=\"group\", condition=\"Control\")\n",
    "dpVerbal = dr.process(column=\"group\", condition=\"Verbal\")"
   ]
  },
  {
   "cell_type": "code",
   "execution_count": null,
   "id": "e26ef540-3ec7-4e68-bdb1-db0a99745fd5",
   "metadata": {},
   "outputs": [],
   "source": [
    "import pyWitness\n",
    "dr = pyWitness.DataRaw(\"test2.csv\")\n",
    "dr.cutData(column=\"previouslyViewedVideo\",value=1,option=\"keep\")\n",
    "dpControl = dr.process(column=\"group\", condition=\"Control\")\n",
    "dpVerbal = dr.process(column=\"group\", condition=\"Verbal\")\n",
    "minRate = min(dpControl.liberalTargetAbsentSuspectId,dpVerbal.liberalTargetAbsentSuspectId)"
   ]
  },
  {
   "cell_type": "markdown",
   "id": "25393c6c-de24-4cea-ae26-7ff40c4619d6",
   "metadata": {},
   "source": [
    "## Statistical (pAUC) comparision between two conditions"
   ]
  },
  {
   "cell_type": "code",
   "execution_count": null,
   "id": "0a4ea1ad-cf82-4206-8ee3-2b00d8276f31",
   "metadata": {},
   "outputs": [],
   "source": [
    "import pyWitness\n",
    "dr = pyWitness.DataRaw(\"test2.csv\")\n",
    "dr.cutData(column=\"previouslyViewedVideo\",value=1,option=\"keep\")\n",
    "dpControl = dr.process(column=\"group\", condition=\"Control\")\n",
    "dpVerbal = dr.process(column=\"group\", condition=\"Verbal\")\n",
    "minRate = min(dpControl.liberalTargetAbsentSuspectId,dpVerbal.liberalTargetAbsentSuspectId)\n",
    "dpControl = dr.process(\"group\",\"Control\",pAUCLiberal=minRate)\n",
    "dpControl.calculateConfidenceBootstrap(nBootstraps=200)\n",
    "dpVerbal = dr.process(\"group\",\"Verbal\",pAUCLiberal=minRate)\n",
    "dpVerbal.calculateConfidenceBootstrap(nBootstraps=200)\n",
    "dpControl.comparePAUC(dpVerbal)"
   ]
  },
  {
   "cell_type": "code",
   "execution_count": null,
   "id": "a7bdcf73-4e13-45a1-905a-7580f5522a31",
   "metadata": {},
   "outputs": [],
   "source": [
    "dpControl.plotROC(label = \"Control data\", relativeFrequencyScale=400)\n",
    "dpVerbal.plotROC(label = \"Verbal data\", relativeFrequencyScale=400)"
   ]
  },
  {
   "cell_type": "code",
   "execution_count": null,
   "id": "42a6ee34-9ce2-4d41-a59d-60196c211d4e",
   "metadata": {},
   "outputs": [],
   "source": [
    "import pyWitness\n",
    "dp = pyWitness.DataProcessed(\"test1_processed.csv\", lineupSize = 6)"
   ]
  },
  {
   "cell_type": "markdown",
   "id": "3344dfaa-2e3f-41ad-ba83-bc93dda0eb1d",
   "metadata": {},
   "source": [
    "## Using instances of raw data, processed data and model fits"
   ]
  },
  {
   "cell_type": "code",
   "execution_count": null,
   "id": "8e16e473-59f3-4765-ad23-fcbdbd2df09b",
   "metadata": {},
   "outputs": [],
   "source": [
    "import pyWitness\n",
    "dr1 = pyWitness.DataRaw(\"test1.csv\")\n",
    "dr2 = pyWitness.DataRaw(\"test1.csv\")\n",
    "\n",
    "dr2.collapseContinuousData(column = \"confidence\",bins = [-1,60,80,100],labels=None)\n",
    "\n",
    "dp1 = dr1.process()\n",
    "dp2 = dr2.process()\n",
    "\n",
    "dp1.plotCAC()\n",
    "dp2.plotCAC()"
   ]
  },
  {
   "cell_type": "markdown",
   "id": "cfa19089-781f-4ef0-ba37-4a698e1c0944",
   "metadata": {},
   "source": [
    "## Overlaying plots"
   ]
  },
  {
   "cell_type": "code",
   "execution_count": null,
   "id": "79dcca02-0bb6-4ce7-9f74-1c61c4473724",
   "metadata": {},
   "outputs": [],
   "source": [
    "import pyWitness\n",
    "dp = pyWitness.DataProcessed(\"test1_processed.csv\", lineupSize = 6)\n",
    "dp.printPivot() "
   ]
  },
  {
   "cell_type": "code",
   "execution_count": 10,
   "id": "ac750c38-7ce5-4723-b1bf-ba4709c6ca12",
   "metadata": {},
   "outputs": [
    {
     "name": "stdout",
     "output_type": "stream",
     "text": [
      "DataRaw.checkData>\n",
      "DataRaw.checkData> columns       : ['Unnamed: 0' 'participantId' 'lineupSize' 'targetLineup' 'responseType'\n",
      " 'confidence' 'responseTime']\n",
      "DataRaw.checkData> lineupSize    : [6]\n",
      "DataRaw.checkData> targetLineup  : ['targetAbsent' 'targetPresent']\n",
      "DataRaw.checkData> responseType  : ['fillerId' 'rejectId' 'suspectId']\n",
      "DataRaw.checkData> confidence    : [  0  10  20  30  40  50  60  70  80  90 100]\n",
      "DataRaw.checkData> number trials : 890\n",
      "DataRaw.checkData>\n",
      "DataRaw.checkData> columns       : ['Unnamed: 0' 'participantId' 'lineupSize' 'targetLineup' 'responseType'\n",
      " 'confidence' 'responseTime']\n",
      "DataRaw.checkData> lineupSize    : [6]\n",
      "DataRaw.checkData> targetLineup  : ['targetAbsent' 'targetPresent']\n",
      "DataRaw.checkData> responseType  : ['fillerId' 'rejectId' 'suspectId']\n",
      "DataRaw.checkData> confidence    : [  0  10  20  30  40  50  60  70  80  90 100]\n",
      "DataRaw.checkData> number trials : 890\n"
     ]
    },
    {
     "data": {
      "text/plain": [
       "(0.5, 1.0)"
      ]
     },
     "execution_count": 10,
     "metadata": {},
     "output_type": "execute_result"
    },
    {
     "data": {
      "image/png": "[encoded data removed]",
      "text/plain": [
       "<Figure size 640x480 with 1 Axes>"
      ]
     },
     "metadata": {},
     "output_type": "display_data"
    }
   ],
   "source": [
    "import pyWitness\n",
    "dr1 = pyWitness.DataRaw(\"test1.csv\")\n",
    "dr2 = pyWitness.DataRaw(\"test1.csv\")\n",
    "\n",
    "dr2.collapseContinuousData(column = \"confidence\",bins = [-1,60,80,100],labels=None)\n",
    "\n",
    "dp1 = dr1.process()\n",
    "dp2 = dr2.process()\n",
    "\n",
    "dp1.plotCAC(label = \"11 bins\")\n",
    "dp2.plotCAC(label = \"3 bins\")\n",
    "\n",
    "import matplotlib.pyplot as _plt\n",
    "_plt.legend()\n",
    "ylim(0.50,1.00)"
   ]
  },
  {
   "cell_type": "markdown",
   "id": "030fa83c-02ed-45aa-ae07-0390c07a7155",
   "metadata": {},
   "source": [
    "## Generating data from signal detection model"
   ]
  },
  {
   "cell_type": "code",
   "execution_count": null,
   "id": "4a73db00-bf54-47d6-95fa-2ed521488d43",
   "metadata": {},
   "outputs": [],
   "source": [
    "import pyWitness\n",
    "dr = pyWitness.DataRaw(\"test1.csv\")\n",
    "dr.collapseContinuousData(column = \"confidence\",bins = [-1,60,80,100],labels=None)\n",
    "dp = dr.process()\n",
    "mf = pyWitness.ModelFitIndependentObservation(dp, debug=True)\n",
    "mf.setEqualVariance()\n",
    "mf.fit()\n",
    "dr1 = mf.generateRawData(nGenParticipants=10000)"
   ]
  },
  {
   "cell_type": "code",
   "execution_count": null,
   "id": "9a86ce50-347f-4ba8-a58e-74b5b7582043",
   "metadata": {},
   "outputs": [],
   "source": [
    "import pyWitness\n",
    "dr = pyWitness.DataRaw(\"test1.csv\")\n",
    "dr.collapseContinuousData(column = \"confidence\",bins = [-1,60,80,100],labels=None)\n",
    "dp = dr.process()\n",
    "mf = pyWitness.ModelFitIndependentObservation(dp, debug=True)\n",
    "mf.setEqualVariance()\n",
    "mf.fit()\n",
    "dr1 = mf.generateRawData(nGenParticipants=10000)\n",
    "dr1.writeCsv(\"fileName.csv\")\n",
    "dr1.writeExcel(\"fileName.xlsx\")"
   ]
  },
  {
   "cell_type": "code",
   "execution_count": null,
   "id": "3929a51f-d340-4934-aea4-8bc987ef6452",
   "metadata": {},
   "outputs": [],
   "source": [
    "import pyWitness\n",
    "dr = pyWitness.DataRaw(\"test1.csv\")\n",
    "dr.collapseContinuousData(column = \"confidence\",bins = [-1,60,80,100],labels=None)\n",
    "dp = dr.process()\n",
    "mf = pyWitness.ModelFitIndependentObservation(dp, debug=True)\n",
    "mf.setEqualVariance()\n",
    "mf.fit()\n",
    "dr1 = mf.generateRawData(nGenParticipants=10000)\n",
    "\n",
    "# Need to process the synthetic data\n",
    "dp1 = dr1.process()\n",
    "\n",
    "# calculate uncertainties using bootstrap\n",
    "dp.calculateConfidenceBootstrap()\n",
    "dp1.calculateConfidenceBootstrap()\n",
    "\n",
    "# plot ROCs\n",
    "dp.plotROC(label=\"Experimental data\")\n",
    "dp1.plotROC(label=\"Simulated data\")\n",
    "mf.plotROC(label=\"Model fit\")\n",
    "\n",
    "import matplotlib.pyplot as _plt\n",
    "legend()"
   ]
  },
  {
   "cell_type": "markdown",
   "id": "ea9c3801-8ea7-4c12-a7ba-61eaba825d77",
   "metadata": {},
   "source": [
    "## Power analysis"
   ]
  },
  {
   "cell_type": "code",
   "execution_count": null,
   "id": "a617f39e-361b-4e21-bdcf-589508ede568",
   "metadata": {},
   "outputs": [],
   "source": [
    "import pyWitness\n",
    "dr = pyWitness.DataRaw(\"test1.csv\")\n",
    "dr.collapseContinuousData(column = \"confidence\",bins = [-1,60,80,100],labels=None)\n",
    "dp = dr.process()\n",
    "mf = pyWitness.ModelFitIndependentObservation(dp, debug=False)\n",
    "mf.setEqualVariance()\n",
    "mf.fit()\n",
    "\n",
    "for nGen in numpy.linspace(500, 5000, 9+1) :\n",
    "    drSimulated = mf.generateRawData(nGenParticipants = nGen)\n",
    "    dpSimulated = drSimulated.process()\n",
    "    dpSimulated.calculateConfidenceBootstrap(nBootstraps=2000)\n",
    "    print(nGen, dpSimulated.liberalTargetAbsentSuspectId,dpSimulated.pAUC, dpSimulated.pAUC_low, dpSimulated.pAUC_high)"
   ]
  },
  {
   "cell_type": "code",
   "execution_count": null,
   "id": "c9268c4a-8d91-48e6-82a5-3d142835e8b8",
   "metadata": {},
   "outputs": [],
   "source": [
    "#boogert - where'd this come from?\n",
    "dr = pyWitness.DataRaw(\"test1.csv\")\n",
    "dr.collapseContinuousData(column=\"confidence\", bins=[-1, 60, 80, 100], labels=[1, 2, 3])\n",
    "dp = dr.process()\n",
    "dp.data_rates.columns.get_level_values(dp.dependentVariable)\n",
    "dp.data_pivot.loc['targetAbsent' ,'fillerId']\n",
    "list(dp.data_pivot.loc['targetAbsent', 'fillerId'].axes[0].droplevel())"
   ]
  },
  {
   "cell_type": "code",
   "execution_count": null,
   "id": "d1b40063-9de8-47bf-bc79-be9014df8da6",
   "metadata": {},
   "outputs": [],
   "source": []
  }
 ],
 "metadata": {
  "kernelspec": {
   "display_name": "Python 3 (ipykernel)",
   "language": "python",
   "name": "python3"
  },
  "language_info": {
   "codemirror_mode": {
    "name": "ipython",
    "version": 3
   },
   "file_extension": ".py",
   "mimetype": "text/x-python",
   "name": "python",
   "nbconvert_exporter": "python",
   "pygments_lexer": "ipython3",
   "version": "3.9.13"
  }
 },
 "nbformat": 4,
 "nbformat_minor": 5
}
