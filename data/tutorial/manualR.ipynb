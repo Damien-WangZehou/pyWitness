{
 "cells": [
  {
   "cell_type": "code",
   "execution_count": 33,
   "id": "5f0136a5-b80f-41bf-a592-43c09ba0018a",
   "metadata": {},
   "outputs": [],
   "source": [
    "library(reticulate)\n",
    "mpl <- import(\"matplotlib\")\n",
    "np <- import(\"numpy\")"
   ]
  },
  {
   "cell_type": "markdown",
   "id": "5ce3bebf-0bbf-469b-ae14-4ce1e1a9a75f",
   "metadata": {},
   "source": [
    "# Tutorial"
   ]
  },
  {
   "cell_type": "markdown",
   "id": "235c99d3-a035-4160-8b54-4ddf21d91fbf",
   "metadata": {
    "tags": []
   },
   "source": [
    "### Checking and exploring loaded data"
   ]
  },
  {
   "cell_type": "code",
   "execution_count": 2,
   "id": "7a5c12cb-b95f-4560-a8d2-0d49cf473ced",
   "metadata": {},
   "outputs": [],
   "source": [
    "pyw <- import(\"pyWitness\")\n",
    "dr <- pyw$DataRaw(\"./test1.csv\")\n",
    "dp <- dr$process()\n",
    "dp$printDescriptiveStats()\n",
    "dp$plotROC()\n",
    "mpl$pyplot$show()"
   ]
  },
  {
   "cell_type": "code",
   "execution_count": 3,
   "id": "de435200-719e-4795-bc52-202b3aee50b6",
   "metadata": {},
   "outputs": [],
   "source": [
    "pyw <- import(\"pyWitness\")\n",
    "dr <- pyw$DataRaw(\"./test1.csv\")"
   ]
  },
  {
   "cell_type": "code",
   "execution_count": 4,
   "id": "499574da-a0a6-41fd-a868-57a436234c39",
   "metadata": {},
   "outputs": [],
   "source": [
    "pyw <- import(\"pyWitness\")\n",
    "dr <- pyw$DataRaw(\"./test1.csv\")\n",
    "dr$checkData()"
   ]
  },
  {
   "cell_type": "code",
   "execution_count": 5,
   "id": "800002a1-85ff-4b50-a539-f66985c116f5",
   "metadata": {},
   "outputs": [],
   "source": [
    "pyw <- import(\"pyWitness\")\n",
    "dr <- pyw$DataRaw(\"./test1.csv\")\n",
    "dr$columnValues(\"responseTime\")"
   ]
  },
  {
   "cell_type": "code",
   "execution_count": null,
   "id": "01ca7124-eb57-4c5a-8412-552cd5bb2f1d",
   "metadata": {},
   "outputs": [],
   "source": [
    "pyw <- import(\"pyWitness\")\n",
    "dr <- pyw$DataRaw(\"test1.xlsx\",\"test1\")"
   ]
  },
  {
   "cell_type": "markdown",
   "id": "8ded557c-ffc9-4042-a913-50ba7eaa1a1a",
   "metadata": {},
   "source": [
    "### Processing raw experimental data"
   ]
  },
  {
   "cell_type": "code",
   "execution_count": 6,
   "id": "8017fe7b-80ab-4e54-a41e-b130ba6378ec",
   "metadata": {},
   "outputs": [],
   "source": [
    "pyw <- import(\"pyWitness\")\n",
    "dr <- pyw$DataRaw(\"./test1.csv\")\n",
    "dp <- dr$process()"
   ]
  },
  {
   "cell_type": "code",
   "execution_count": 7,
   "id": "03f3ba3d-09a8-4957-ab95-cbca8d0a7dd0",
   "metadata": {},
   "outputs": [],
   "source": [
    "pyw <- import(\"pyWitness\")\n",
    "dr <- pyw$DataRaw(\"./test1.csv\")\n",
    "dp <- dr$process()\n",
    "dp$printPivot()\n",
    "dp$printRates()"
   ]
  },
  {
   "cell_type": "code",
   "execution_count": 8,
   "id": "edc82cfb-ceb2-4e4e-836b-54bfa6e7fd4d",
   "metadata": {},
   "outputs": [],
   "source": [
    "pyw <- import(\"pyWitness\")\n",
    "dr <- pyw$DataRaw(\"./test1.csv\")\n",
    "dp <- dr$process()\n",
    "dp$printDescriptiveStats()"
   ]
  },
  {
   "cell_type": "markdown",
   "id": "b622e4fa-7d88-49f0-8a79-5a25f4a6341c",
   "metadata": {},
   "source": [
    "### Plotting ROC curves"
   ]
  },
  {
   "cell_type": "code",
   "execution_count": 9,
   "id": "cf967699-2865-48c1-be1e-ae4131b3957b",
   "metadata": {},
   "outputs": [],
   "source": [
    "pyw <- import(\"pyWitness\")\n",
    "dr <- pyw$DataRaw(\"./test1.csv\")\n",
    "dp <- dr$process()\n",
    "dp$plotROC()\n",
    "mpl$pyplot$show()"
   ]
  },
  {
   "cell_type": "markdown",
   "id": "e7e7fb9a-d912-419e-b9fd-67d155777bbd",
   "metadata": {},
   "source": [
    "### Plotting CAC curves"
   ]
  },
  {
   "cell_type": "code",
   "execution_count": 35,
   "id": "0ea9533e-a5e4-4ef2-b139-23f85be0a85c",
   "metadata": {},
   "outputs": [
    {
     "data": {
      "text/plain": [
       "<matplotlib.legend.Legend object at 0x2826602e0>"
      ]
     },
     "metadata": {},
     "output_type": "display_data"
    }
   ],
   "source": [
    "dp$plotCAC(label=\"Data\")\n",
    "mf$plotCAC(label=\"Indep. obs. fit\")\n",
    "\n",
    "mpl$pyplot$legend()\n",
    "\n"
   ]
  },
  {
   "cell_type": "markdown",
   "id": "0ede4b77-0c4f-45f7-a80b-ffe43a6e6b78",
   "metadata": {},
   "source": [
    "### Collapsing the categorical data"
   ]
  },
  {
   "cell_type": "code",
   "execution_count": 16,
   "id": "34a95d19-7a62-427b-9bea-9f7873c3a24a",
   "metadata": {},
   "outputs": [],
   "source": [
    "pyw <- import(\"pyWitness\")\n",
    "dr <- pyw$DataRaw(\"./test1.csv\")\n",
    "dr$collapseCategoricalData(column='confidence',map=list(\"0\"=30, \"10\"=30, \"20\"=30, \"30\"=30, \"40\"=30, \"50\"=30, \"60\"=30,\n",
    "                                \"70\"=75, \"80\"=75,\n",
    "                                \"90\"=95, \"100\"=95))\n",
    "dp <- dr$process()\n",
    "dp$plotCAC()\n",
    "invisible(mpl$pyplot$ylim(0.50,1.0))\n",
    "mpl$pyplot$show()"
   ]
  },
  {
   "cell_type": "markdown",
   "id": "ff8bff94-3041-4e90-8fbf-a33e3904f79f",
   "metadata": {},
   "source": [
    "### Collapsing (binning) continuous data"
   ]
  },
  {
   "cell_type": "code",
   "execution_count": 17,
   "id": "1fe862c3-e388-4a2b-97fb-cf4dc908b4f4",
   "metadata": {},
   "outputs": [],
   "source": [
    "pyw <- import(\"pyWitness\")\n",
    "dr <- pyw$DataRaw(\"./test1.csv\")\n",
    "dr$collapseContinuousData(column = \"confidence\", bins = c(-1,60,80,100),labels= c(1,2,3))\n",
    "dp <- dr$process()\n",
    "dp$plotROC()\n",
    "mpl$pyplot$show()"
   ]
  },
  {
   "cell_type": "code",
   "execution_count": 18,
   "id": "66fa8424-25d6-4b70-8e88-9ca6eddfdacc",
   "metadata": {},
   "outputs": [
    {
     "name": "stdout",
     "output_type": "stream",
     "text": [
      "[1] 0.02075014\n"
     ]
    }
   ],
   "source": [
    "pyw <- import(\"pyWitness\")\n",
    "dr <- pyw$DataRaw(\"./test1.csv\")\n",
    "dr$collapseContinuousData(column = \"confidence\",bins = c(-1,60,80,100),labels= c(1,2,3))\n",
    "dp <- dr$process()\n",
    "print(dp$pAUC)"
   ]
  },
  {
   "cell_type": "markdown",
   "id": "428a79ba-3a81-4abb-a4cf-d6eed1c4d980",
   "metadata": {},
   "source": [
    "### Plotting RAC curves"
   ]
  },
  {
   "cell_type": "code",
   "execution_count": 19,
   "id": "9161a363-e3c2-4b4f-991e-75d4e10dabf2",
   "metadata": {},
   "outputs": [],
   "source": [
    "pyw <- import(\"pyWitness\")\n",
    "drRAC <- pyw$DataRaw(\"./test1.csv\")\n",
    "drRAC$collapseContinuousData(column=\"responseTime\",\n",
    "                    bins=c(0, 5000, 10000, 15000, 20000, 99999),\n",
    "                        labels=c(1, 2, 3, 4, 5))\n",
    "dpRAC <- drRAC$process(reverseConfidence=TRUE,dependentVariable=\"responseTime\")\n",
    "dpRAC$plotCAC()\n",
    "invisible(mpl$pyplot$xlabel(\"Response Time\"))\n",
    "invisible(mpl$pyplot$ylim(.50,1.0))\n",
    "invisible(mpl$pyplot$savefig(\"test1RAC.png\"))\n",
    "invisible(mpl$pyplot$savefig(\"test1RAC.pdf\"))"
   ]
  },
  {
   "cell_type": "markdown",
   "id": "fa4d6adf-90c9-42c5-be42-6dae978b72e8",
   "metadata": {},
   "source": [
    "### Fitting signal detection-based models to data"
   ]
  },
  {
   "cell_type": "code",
   "execution_count": 20,
   "id": "a77ec87c-9108-4c63-85dc-7e862e1d8e20",
   "metadata": {},
   "outputs": [],
   "source": [
    "pyw <- import(\"pyWitness\",convert=TRUE)\n",
    "dr <- pyw$DataRaw(\"./test1.csv\")\n",
    "dr$collapseContinuousData(column = \"confidence\",bins = c(-1,60,80,100),labels= c(1,2,3))\n",
    "dp <- dr$process()\n",
    "mf <- pyw$ModelFitIndependentObservation(dp)\n",
    "mf$setEqualVariance()\n",
    "mf$fit()"
   ]
  },
  {
   "cell_type": "code",
   "execution_count": 21,
   "id": "a85e3ec6-9501-45a4-a867-8e3da043fce3",
   "metadata": {},
   "outputs": [],
   "source": [
    "pyw <- import(\"pyWitness\")\n",
    "dr <- pyw$DataRaw(\"./test1.csv\")\n",
    "dp <- dr$process()\n",
    "mf <- pyw$ModelFitIndependentObservation(dp)\n",
    "mf$setEqualVariance()\n",
    "mf$fit()\n",
    "mf$printParameters()"
   ]
  },
  {
   "cell_type": "code",
   "execution_count": 27,
   "id": "f258a3ce-88b9-471d-a18f-9a223e3839a1",
   "metadata": {},
   "outputs": [],
   "source": [
    "pyw <- import(\"pyWitness\")\n",
    "dr <- pyw$DataRaw(\"./test1.csv\")\n",
    "dr$collapseContinuousData(column = \"confidence\",bins = c(-1,60,80,100),labels= c(1,2,3))\n",
    "dp <- dr$process()\n",
    "mf <- pyw$ModelFitIndependentObservation(dp)\n",
    "mf$printParameters()\n",
    "\n",
    "mf$setEqualVariance()\n",
    "mf$printParameters()\n",
    "\n",
    "mf$fit()\n",
    "mf$printParameters()"
   ]
  },
  {
   "cell_type": "code",
   "execution_count": null,
   "id": "ef4b0ef4-c038-4b06-8d1b-03fef55c2ebe",
   "metadata": {},
   "outputs": [],
   "source": [
    "pyw <- import(\"pyWitness\")\n",
    "dr <- pyw$DataRaw(\"./test1.csv\")\n",
    "dp <- dr$process()\n",
    "mf_io <- pyw$ModelFitIndependentObservation(dp)\n",
    "mf_br <- pyw$ModelFitBestRest(dp)\n",
    "mf_en <- pyw$ModelFitEnsemble(dp)\n",
    "mf_in <- pyw$ModelFitIntegration(dp)"
   ]
  },
  {
   "cell_type": "markdown",
   "id": "25c048a5-d99b-46c7-b683-f0ce1997b4a9",
   "metadata": {},
   "source": [
    "### Setting initial fit parameters"
   ]
  },
  {
   "cell_type": "code",
   "execution_count": null,
   "id": "4ccd467b-a3e4-44b1-948c-2a482ec38bad",
   "metadata": {},
   "outputs": [],
   "source": [
    "pyw <- import(\"pyWitness\")\n",
    "dr <- pyw$DataRaw(\"./test1.csv\")\n",
    "dr$collapseContinuousData(column = \"confidence\",bins = c(-1,60,80,100),labels = c(1,2,3))\n",
    "dp <- dr$process()\n",
    "dp$plotHitVsFalseAlarmRate()\n",
    "invisible(mpl$pyplot$savefig(\"HvFA.png\"))"
   ]
  },
  {
   "cell_type": "code",
   "execution_count": null,
   "id": "4a5d0c83-fe74-4d9c-94ec-ce546ecb706a",
   "metadata": {},
   "outputs": [],
   "source": [
    "pyw <- import(\"pyWitness\")\n",
    "dr <- pyw$DataRaw(\"./test1.csv\")\n",
    "dr$collapseContinuousData(column = \"confidence\",bins = c(-1,60,80,100),labels = c(1,2,3))\n",
    "dp <- dr$process()\n",
    "mf <- pyw$ModelFitIndependentObservation(dp)\n",
    "mf$printParameters()"
   ]
  },
  {
   "cell_type": "code",
   "execution_count": null,
   "id": "0f9fc2c3-b233-4f87-a283-2e3f2aa03295",
   "metadata": {},
   "outputs": [],
   "source": [
    "pyw <- import(\"pyWitness\")\n",
    "dr <- pyw$DataRaw(\"./test1.csv\")\n",
    "dr$collapseContinuousData(column = \"confidence\",bins = c(-1,60,80,100),labels = c(1,2,3))\n",
    "dp <- dr$process()\n",
    "mf <- pyw$ModelFitIndependentObservation(dp)\n",
    "\n",
    "mf$setEqualVariance()\n",
    "mf$setParameterEstimates()\n",
    "mf$printParameters()"
   ]
  },
  {
   "cell_type": "code",
   "execution_count": null,
   "id": "1d621787-455b-4c84-ac76-311c7d30f027",
   "metadata": {},
   "outputs": [],
   "source": [
    "pyw <- import(\"pyWitness\")\n",
    "dr <- pyw$DataRaw(\"./test1.csv\")\n",
    "dr$collapseContinuousData(column = \"confidence\",bins = c(-1,60,80,100),labels = c(1,2,3))\n",
    "dp <- dr$process()\n",
    "mf <- pyw$ModelFitIndependentObservation(dp)\n",
    "\n",
    "mf$fit()\n",
    "mf$printParameters()"
   ]
  },
  {
   "cell_type": "markdown",
   "id": "49648523-efb9-4116-b4a7-ca9fc263c274",
   "metadata": {},
   "source": [
    "### Plotting fit and models"
   ]
  },
  {
   "cell_type": "code",
   "execution_count": null,
   "id": "5fb0a0fd-c7d0-4150-9c07-852172aaa314",
   "metadata": {},
   "outputs": [],
   "source": [
    "pyw <- import(\"pyWitness\")\n",
    "dr <- pyw$DataRaw(\"./test1.csv\")\n",
    "dr$collapseContinuousData(column = \"confidence\",bins = c(-1,60,80,100),labels = c(1,2,3))\n",
    "dp <- dr$process()\n",
    "dp$calculateConfidenceBootstrap(nBootstraps=as.integer(200))\n",
    "mf <- pyw$ModelFitIndependentObservation(dp)\n",
    "mf$setEqualVariance()\n",
    "mf$fit()"
   ]
  },
  {
   "cell_type": "code",
   "execution_count": null,
   "id": "bd58b84a-be3a-477b-ab97-a9ba523fd71d",
   "metadata": {},
   "outputs": [],
   "source": [
    "pyw <- import(\"pyWitness\")\n",
    "dr <- pyw$DataRaw(\"./test1.csv\")\n",
    "dr$collapseContinuousData(column = \"confidence\",bins = c(-1,60,80,100),labels = c(1,2,3))\n",
    "dp <- dr$process()\n",
    "dp$calculateConfidenceBootstrap(nBootstraps=as.integer(200))\n",
    "mf <- pyw$ModelFitIndependentObservation(dp)\n",
    "mf$setEqualVariance()\n",
    "mf$fit()\n",
    "dp$plotROC(label=\"Data\")\n",
    "mf$plotROC(label=\"Indep. obs. fit\")\n",
    "mpl$pyplot$legend()\n",
    "mpl$pyplot$show()"
   ]
  },
  {
   "cell_type": "code",
   "execution_count": 34,
   "id": "f0d3c1f0-070e-46b2-a508-bf6c27181306",
   "metadata": {},
   "outputs": [
    {
     "ename": "ERROR",
     "evalue": "Error in py_call_impl(callable, dots$args, dots$keywords): pandas.errors.ParserError: Error tokenizing data. C error: Expected 1 fields in line 4, saw 2\n\n\n",
     "output_type": "error",
     "traceback": [
      "Error in py_call_impl(callable, dots$args, dots$keywords): pandas.errors.ParserError: Error tokenizing data. C error: Expected 1 fields in line 4, saw 2\n\n\nTraceback:\n",
      "1. pyw$DataRaw(\"./test1.csv\")",
      "2. py_call_impl(callable, dots$args, dots$keywords)"
     ]
    }
   ],
   "source": [
    "pyw <- import(\"pyWitness\")\n",
    "dr <- pyw$DataRaw(\"./test1.csv\")\n",
    "dr$collapseContinuousData(column = \"confidence\",bins = c(-1,60,80,100),labels = c(1,2,3))\n",
    "dp <- dr$process()\n",
    "dp$calculateConfidenceBootstrap(nBootstraps=as.integer(200))\n",
    "mf <- pyw$ModelFitIndependentObservation(dp)\n",
    "mf$setEqualVariance()\n",
    "mf$fit()\n",
    "dp$plotROC(label=\"Data\")\n",
    "mf$plotROC(label=\"Indep. obs. fit\")\n",
    "mpl$pyplot$legend()\n",
    "mf$plotFit()\n",
    "mpl$pyplot$show()\n",
    "mf$d"
   ]
  },
  {
   "cell_type": "code",
   "execution_count": null,
   "id": "5c51b51e-cb95-4539-8fc1-25a49d7a710b",
   "metadata": {},
   "outputs": [],
   "source": [
    "pyw <- import(\"pyWitness\")\n",
    "dr <- pyw$DataRaw(\"./test1.csv\")\n",
    "dr$collapseContinuousData(column = \"confidence\",bins = c(-1,60,80,100),labels = c(1,2,3))\n",
    "dp <- dr$process()\n",
    "dp$calculateConfidenceBootstrap(nBootstraps=as.integer(200))\n",
    "mf <- pyw$ModelFitIndependentObservation(dp)\n",
    "mf$setEqualVariance()\n",
    "mf$fit()\n",
    "dp$plotROC(label=\"Data\")\n",
    "mf$plotROC(label=\"Indep. obs. fit\")\n",
    "mpl$pyplot$legend()\n",
    "mpl$pyplot$mf$plotFit()\n",
    "mpl$pyplot$show()"
   ]
  },
  {
   "cell_type": "code",
   "execution_count": 31,
   "id": "4165e375-6015-4dbf-9869-68ceb5c89dc2",
   "metadata": {},
   "outputs": [
    {
     "ename": "ERROR",
     "evalue": "Error in py_call_impl(callable, dots$args, dots$keywords): pandas.errors.ParserError: Error tokenizing data. C error: Expected 1 fields in line 4, saw 2\n\n\n",
     "output_type": "error",
     "traceback": [
      "Error in py_call_impl(callable, dots$args, dots$keywords): pandas.errors.ParserError: Error tokenizing data. C error: Expected 1 fields in line 4, saw 2\n\n\nTraceback:\n",
      "1. pyw$DataRaw(\"./test1.csv\")",
      "2. py_call_impl(callable, dots$args, dots$keywords)"
     ]
    }
   ],
   "source": [
    "pyw <- import(\"pyWitness\")\n",
    "dr <- pyw$DataRaw(\"./test1.csv\")\n",
    "dr$collapseContinuousData(column = \"confidence\",bins = c(-1,60,80,100),labels = c(1,2,3))\n",
    "dp <- dr$process()\n",
    "dp$calculateConfidenceBootstrap(nBootstraps=as.integer(200))\n",
    "mf <- pyw$ModelFitIndependentObservation(dp)\n",
    "mf$setEqualVariance()\n",
    "mf$fit()\n",
    "dp$plotROC(label=\"Data\")\n",
    "mf$plotROC(label=\"Indep. obs. fit\")\n",
    "mpl$pyplot$legend()\n",
    "mf$plotFit()\n",
    "mf$plotModel()"
   ]
  },
  {
   "cell_type": "code",
   "execution_count": null,
   "id": "21aa2739-035d-4498-b24a-5bcdd2b1b424",
   "metadata": {},
   "outputs": [],
   "source": [
    "mf$d"
   ]
  },
  {
   "cell_type": "code",
   "execution_count": 30,
   "id": "78b15717-8400-43d1-8180-183d60a3ba40",
   "metadata": {},
   "outputs": [
    {
     "ename": "ERROR",
     "evalue": "Error in py_call_impl(callable, dots$args, dots$keywords): pandas.errors.ParserError: Error tokenizing data. C error: Expected 1 fields in line 4, saw 2\n\n\n",
     "output_type": "error",
     "traceback": [
      "Error in py_call_impl(callable, dots$args, dots$keywords): pandas.errors.ParserError: Error tokenizing data. C error: Expected 1 fields in line 4, saw 2\n\n\nTraceback:\n",
      "1. pyw$DataRaw(\"./test1.csv\")",
      "2. py_call_impl(callable, dots$args, dots$keywords)"
     ]
    }
   ],
   "source": [
    "pyw <- import(\"pyWitness\")\n",
    "dr <- pyw$DataRaw(\"./test1.csv\")\n",
    "dr$collapseContinuousData(column = \"confidence\",bins = c(-1,60,80,100),labels = c(1,2,3))\n",
    "dp <- dr$process()\n",
    "dp$calculateConfidenceBootstrap(nBootstraps=as.integer(200))\n",
    "#mf <- pyw$ModelFitIndependentObservation(dp)\n",
    "#mf$setEqualVariance()\n",
    "#mf$fit()\n",
    "#dp$plotCAC(label=\"Data\")\n",
    "#mf$plotCAC(label=\"Indep. obs. fit\")\n",
    "#mpl$pyplot$legend()\n",
    "#mpl$pyplot$mf$plotFit()\n",
    "#mpl$pyplot$show()"
   ]
  },
  {
   "cell_type": "markdown",
   "id": "047d4208-2d80-4b84-b375-1f13b7b26df5",
   "metadata": {},
   "source": [
    "### Writing results to file"
   ]
  },
  {
   "cell_type": "code",
   "execution_count": null,
   "id": "c44670b2-6512-400b-bd6b-a58e3d8d06ed",
   "metadata": {},
   "outputs": [],
   "source": [
    "pyw <- import(\"pyWitness\")\n",
    "dr <- pyw$DataRaw(\"./test1.csv\")\n",
    "dp <- dr$process()\n",
    "dp$writePivotExcel(\"test1_pivot.xlsx\")\n",
    "dp$writePivotCsv(\"test1_pivot.csv\")\n",
    "dp$writeRatesExcel(\"test1_rates.xlsx\")\n",
    "dp$writeRatesCsv(\"test1_rates.csv\")"
   ]
  },
  {
   "cell_type": "markdown",
   "id": "8f2e8aa9-54e4-4ff6-905c-3c5ecd78048b",
   "metadata": {},
   "source": [
    "# Advanced tutorial"
   ]
  },
  {
   "cell_type": "markdown",
   "id": "1799a970-0143-4ba5-99c6-644dde5c022e",
   "metadata": {},
   "source": [
    "## Bootstrapping uncertainties/confidence limits"
   ]
  },
  {
   "cell_type": "code",
   "execution_count": null,
   "id": "a8e125c9-151f-45c7-a373-51755e52f354",
   "metadata": {},
   "outputs": [],
   "source": [
    "list(\"a\"=10,\"b\"=20)"
   ]
  },
  {
   "cell_type": "code",
   "execution_count": null,
   "id": "7a46e136-a7c3-4543-8c41-373056044697",
   "metadata": {},
   "outputs": [],
   "source": []
  }
 ],
 "metadata": {
  "kernelspec": {
   "display_name": "R",
   "language": "R",
   "name": "ir"
  },
  "language_info": {
   "codemirror_mode": "r",
   "file_extension": ".r",
   "mimetype": "text/x-r-source",
   "name": "R",
   "pygments_lexer": "r",
   "version": "4.1.3"
  }
 },
 "nbformat": 4,
 "nbformat_minor": 5
}
