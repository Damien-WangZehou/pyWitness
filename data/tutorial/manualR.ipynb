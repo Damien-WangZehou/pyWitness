{
 "cells": [
  {
   "cell_type": "code",
   "execution_count": 1,
   "id": "5f0136a5-b80f-41bf-a592-43c09ba0018a",
   "metadata": {},
   "outputs": [],
   "source": [
    "library(reticulate)\n",
    "mpl <- import(\"matplotlib\")\n",
    "np <- import(\"numpy\")"
   ]
  },
  {
   "cell_type": "markdown",
   "id": "5ce3bebf-0bbf-469b-ae14-4ce1e1a9a75f",
   "metadata": {},
   "source": [
    "# Tutorial"
   ]
  },
  {
   "cell_type": "markdown",
   "id": "235c99d3-a035-4160-8b54-4ddf21d91fbf",
   "metadata": {
    "tags": []
   },
   "source": [
    "### Checking and exploring loaded data"
   ]
  },
  {
   "cell_type": "code",
   "execution_count": 2,
   "id": "7a5c12cb-b95f-4560-a8d2-0d49cf473ced",
   "metadata": {},
   "outputs": [],
   "source": [
    "pyw <- import(\"pyWitness\")\n",
    "dr <- pyw$DataRaw(\"./test1.csv\")\n",
    "dp <- dr$process()\n",
    "dp$printDescriptiveStats()\n",
    "dp$plotROC()\n",
    "mpl$pyplot$show()"
   ]
  },
  {
   "cell_type": "code",
   "execution_count": 3,
   "id": "de435200-719e-4795-bc52-202b3aee50b6",
   "metadata": {},
   "outputs": [],
   "source": [
    "pyw <- import(\"pyWitness\")\n",
    "dr <- pyw$DataRaw(\"./test1.csv\")"
   ]
  },
  {
   "cell_type": "code",
   "execution_count": 4,
   "id": "499574da-a0a6-41fd-a868-57a436234c39",
   "metadata": {},
   "outputs": [],
   "source": [
    "pyw <- import(\"pyWitness\")\n",
    "dr <- pyw$DataRaw(\"./test1.csv\")\n",
    "dr$checkData()"
   ]
  },
  {
   "cell_type": "code",
   "execution_count": 5,
   "id": "800002a1-85ff-4b50-a539-f66985c116f5",
   "metadata": {},
   "outputs": [],
   "source": [
    "pyw <- import(\"pyWitness\")\n",
    "dr <- pyw$DataRaw(\"./test1.csv\")\n",
    "dr$columnValues(\"responseTime\")"
   ]
  },
  {
   "cell_type": "code",
   "execution_count": 6,
   "id": "01ca7124-eb57-4c5a-8412-552cd5bb2f1d",
   "metadata": {},
   "outputs": [],
   "source": [
    "pyw <- import(\"pyWitness\")\n",
    "dr <- pyw$DataRaw(\"test1.xlsx\",\"test1\")"
   ]
  },
  {
   "cell_type": "markdown",
   "id": "8ded557c-ffc9-4042-a913-50ba7eaa1a1a",
   "metadata": {},
   "source": [
    "### Processing raw experimental data"
   ]
  },
  {
   "cell_type": "code",
   "execution_count": 7,
   "id": "8017fe7b-80ab-4e54-a41e-b130ba6378ec",
   "metadata": {},
   "outputs": [],
   "source": [
    "pyw <- import(\"pyWitness\")\n",
    "dr <- pyw$DataRaw(\"./test1.csv\")\n",
    "dp <- dr$process()"
   ]
  },
  {
   "cell_type": "code",
   "execution_count": 8,
   "id": "03f3ba3d-09a8-4957-ab95-cbca8d0a7dd0",
   "metadata": {},
   "outputs": [],
   "source": [
    "pyw <- import(\"pyWitness\")\n",
    "dr <- pyw$DataRaw(\"./test1.csv\")\n",
    "dp <- dr$process()\n",
    "dp$printPivot()\n",
    "dp$printRates()"
   ]
  },
  {
   "cell_type": "code",
   "execution_count": 9,
   "id": "edc82cfb-ceb2-4e4e-836b-54bfa6e7fd4d",
   "metadata": {},
   "outputs": [],
   "source": [
    "pyw <- import(\"pyWitness\")\n",
    "dr <- pyw$DataRaw(\"./test1.csv\")\n",
    "dp <- dr$process()\n",
    "dp$printDescriptiveStats()"
   ]
  },
  {
   "cell_type": "markdown",
   "id": "b622e4fa-7d88-49f0-8a79-5a25f4a6341c",
   "metadata": {},
   "source": [
    "### Plotting ROC curves"
   ]
  },
  {
   "cell_type": "code",
   "execution_count": 10,
   "id": "cf967699-2865-48c1-be1e-ae4131b3957b",
   "metadata": {},
   "outputs": [],
   "source": [
    "pyw <- import(\"pyWitness\")\n",
    "dr <- pyw$DataRaw(\"./test1.csv\")\n",
    "dp <- dr$process()\n",
    "dp$plotROC()\n",
    "mpl$pyplot$show()"
   ]
  },
  {
   "cell_type": "markdown",
   "id": "e7e7fb9a-d912-419e-b9fd-67d155777bbd",
   "metadata": {},
   "source": [
    "### Plotting CAC curves"
   ]
  },
  {
   "cell_type": "code",
   "execution_count": 11,
   "id": "0ea9533e-a5e4-4ef2-b139-23f85be0a85c",
   "metadata": {},
   "outputs": [
    {
     "data": {
      "text/plain": [
       "<matplotlib.legend.Legend object at 0x284170460>"
      ]
     },
     "metadata": {},
     "output_type": "display_data"
    }
   ],
   "source": [
    "pyw <- import(\"pyWitness\")\n",
    "dr <- pyw$DataRaw(\"./test1.csv\")\n",
    "dp <- dr$process()\n",
    "\n",
    "dp$plotCAC(label=\"Data\")\n",
    "\n",
    "mpl$pyplot$legend()\n",
    "mpl$pyplot$show()\n"
   ]
  },
  {
   "cell_type": "markdown",
   "id": "0ede4b77-0c4f-45f7-a80b-ffe43a6e6b78",
   "metadata": {},
   "source": [
    "### Collapsing the categorical data"
   ]
  },
  {
   "cell_type": "code",
   "execution_count": 12,
   "id": "34a95d19-7a62-427b-9bea-9f7873c3a24a",
   "metadata": {},
   "outputs": [],
   "source": [
    "pyw <- import(\"pyWitness\")\n",
    "dr <- pyw$DataRaw(\"./test1.csv\")\n",
    "dr$collapseCategoricalData(column='confidence',map=list(\"0\"=30, \"10\"=30, \"20\"=30, \"30\"=30, \"40\"=30, \"50\"=30, \"60\"=30,\n",
    "                                \"70\"=75, \"80\"=75,\n",
    "                                \"90\"=95, \"100\"=95))\n",
    "dp <- dr$process()\n",
    "dp$plotCAC()\n",
    "invisible(mpl$pyplot$ylim(0.50,1.0))\n",
    "mpl$pyplot$show()"
   ]
  },
  {
   "cell_type": "markdown",
   "id": "ff8bff94-3041-4e90-8fbf-a33e3904f79f",
   "metadata": {},
   "source": [
    "### Collapsing (binning) continuous data"
   ]
  },
  {
   "cell_type": "code",
   "execution_count": 13,
   "id": "1fe862c3-e388-4a2b-97fb-cf4dc908b4f4",
   "metadata": {},
   "outputs": [],
   "source": [
    "pyw <- import(\"pyWitness\")\n",
    "dr <- pyw$DataRaw(\"./test1.csv\")\n",
    "dr$collapseContinuousData(column = \"confidence\", bins = c(-1,60,80,100),labels= c(1,2,3))\n",
    "dp <- dr$process()\n",
    "dp$plotROC()\n",
    "mpl$pyplot$show()"
   ]
  },
  {
   "cell_type": "code",
   "execution_count": 14,
   "id": "66fa8424-25d6-4b70-8e88-9ca6eddfdacc",
   "metadata": {},
   "outputs": [
    {
     "name": "stdout",
     "output_type": "stream",
     "text": [
      "[1] 0.02075014\n"
     ]
    }
   ],
   "source": [
    "pyw <- import(\"pyWitness\")\n",
    "dr <- pyw$DataRaw(\"./test1.csv\")\n",
    "dr$collapseContinuousData(column = \"confidence\",bins = c(-1,60,80,100),labels= c(1,2,3))\n",
    "dp <- dr$process()\n",
    "print(dp$pAUC)"
   ]
  },
  {
   "cell_type": "markdown",
   "id": "428a79ba-3a81-4abb-a4cf-d6eed1c4d980",
   "metadata": {},
   "source": [
    "### Plotting RAC curves"
   ]
  },
  {
   "cell_type": "code",
   "execution_count": 15,
   "id": "9161a363-e3c2-4b4f-991e-75d4e10dabf2",
   "metadata": {},
   "outputs": [],
   "source": [
    "pyw <- import(\"pyWitness\")\n",
    "drRAC <- pyw$DataRaw(\"./test1.csv\")\n",
    "drRAC$collapseContinuousData(column=\"responseTime\",\n",
    "                    bins=c(0, 5000, 10000, 15000, 20000, 99999),\n",
    "                        labels=c(1, 2, 3, 4, 5))\n",
    "dpRAC <- drRAC$process(reverseConfidence=TRUE,dependentVariable=\"responseTime\")\n",
    "dpRAC$plotCAC()\n",
    "invisible(mpl$pyplot$xlabel(\"Response Time\"))\n",
    "invisible(mpl$pyplot$ylim(.50,1.0))\n",
    "invisible(mpl$pyplot$savefig(\"test1RAC.png\"))\n",
    "invisible(mpl$pyplot$savefig(\"test1RAC.pdf\"))"
   ]
  },
  {
   "cell_type": "markdown",
   "id": "fa4d6adf-90c9-42c5-be42-6dae978b72e8",
   "metadata": {},
   "source": [
    "### Fitting signal detection-based models to data"
   ]
  },
  {
   "cell_type": "code",
   "execution_count": 16,
   "id": "a77ec87c-9108-4c63-85dc-7e862e1d8e20",
   "metadata": {},
   "outputs": [],
   "source": [
    "pyw <- import(\"pyWitness\",convert=TRUE)\n",
    "dr <- pyw$DataRaw(\"./test1.csv\")\n",
    "dr$collapseContinuousData(column = \"confidence\",bins = c(-1,60,80,100),labels= c(1,2,3))\n",
    "dp <- dr$process()\n",
    "mf <- pyw$ModelFitIndependentObservation(dp)\n",
    "mf$setEqualVariance()\n",
    "mf$fit()"
   ]
  },
  {
   "cell_type": "code",
   "execution_count": 17,
   "id": "a85e3ec6-9501-45a4-a867-8e3da043fce3",
   "metadata": {},
   "outputs": [],
   "source": [
    "pyw <- import(\"pyWitness\")\n",
    "dr <- pyw$DataRaw(\"./test1.csv\")\n",
    "dp <- dr$process()\n",
    "mf <- pyw$ModelFitIndependentObservation(dp)\n",
    "mf$setEqualVariance()\n",
    "mf$fit()\n",
    "mf$printParameters()"
   ]
  },
  {
   "cell_type": "code",
   "execution_count": 18,
   "id": "f258a3ce-88b9-471d-a18f-9a223e3839a1",
   "metadata": {},
   "outputs": [],
   "source": [
    "pyw <- import(\"pyWitness\")\n",
    "dr <- pyw$DataRaw(\"./test1.csv\")\n",
    "dr$collapseContinuousData(column = \"confidence\",bins = c(-1,60,80,100),labels= c(1,2,3))\n",
    "dp <- dr$process()\n",
    "mf <- pyw$ModelFitIndependentObservation(dp)\n",
    "mf$printParameters()\n",
    "\n",
    "mf$setEqualVariance()\n",
    "mf$printParameters()\n",
    "\n",
    "mf$fit()\n",
    "mf$printParameters()"
   ]
  },
  {
   "cell_type": "code",
   "execution_count": 19,
   "id": "ef4b0ef4-c038-4b06-8d1b-03fef55c2ebe",
   "metadata": {},
   "outputs": [],
   "source": [
    "pyw <- import(\"pyWitness\")\n",
    "dr <- pyw$DataRaw(\"./test1.csv\")\n",
    "dp <- dr$process()\n",
    "mf_io <- pyw$ModelFitIndependentObservation(dp)\n",
    "mf_br <- pyw$ModelFitBestRest(dp)\n",
    "mf_en <- pyw$ModelFitEnsemble(dp)\n",
    "mf_in <- pyw$ModelFitIntegration(dp)"
   ]
  },
  {
   "cell_type": "markdown",
   "id": "25c048a5-d99b-46c7-b683-f0ce1997b4a9",
   "metadata": {},
   "source": [
    "### Setting initial fit parameters"
   ]
  },
  {
   "cell_type": "code",
   "execution_count": 20,
   "id": "4ccd467b-a3e4-44b1-948c-2a482ec38bad",
   "metadata": {},
   "outputs": [],
   "source": [
    "pyw <- import(\"pyWitness\")\n",
    "dr <- pyw$DataRaw(\"./test1.csv\")\n",
    "dr$collapseContinuousData(column = \"confidence\",bins = c(-1,60,80,100),labels = c(1,2,3))\n",
    "dp <- dr$process()\n",
    "dp$plotHitVsFalseAlarmRate()\n",
    "invisible(mpl$pyplot$savefig(\"HvFA.png\"))"
   ]
  },
  {
   "cell_type": "code",
   "execution_count": 21,
   "id": "4a5d0c83-fe74-4d9c-94ec-ce546ecb706a",
   "metadata": {},
   "outputs": [],
   "source": [
    "pyw <- import(\"pyWitness\")\n",
    "dr <- pyw$DataRaw(\"./test1.csv\")\n",
    "dr$collapseContinuousData(column = \"confidence\",bins = c(-1,60,80,100),labels = c(1,2,3))\n",
    "dp <- dr$process()\n",
    "mf <- pyw$ModelFitIndependentObservation(dp)\n",
    "mf$printParameters()"
   ]
  },
  {
   "cell_type": "code",
   "execution_count": 22,
   "id": "0f9fc2c3-b233-4f87-a283-2e3f2aa03295",
   "metadata": {},
   "outputs": [],
   "source": [
    "pyw <- import(\"pyWitness\")\n",
    "dr <- pyw$DataRaw(\"./test1.csv\")\n",
    "dr$collapseContinuousData(column = \"confidence\",bins = c(-1,60,80,100),labels = c(1,2,3))\n",
    "dp <- dr$process()\n",
    "mf <- pyw$ModelFitIndependentObservation(dp)\n",
    "\n",
    "mf$setEqualVariance()\n",
    "mf$setParameterEstimates()\n",
    "mf$printParameters()"
   ]
  },
  {
   "cell_type": "code",
   "execution_count": 23,
   "id": "1d621787-455b-4c84-ac76-311c7d30f027",
   "metadata": {},
   "outputs": [],
   "source": [
    "pyw <- import(\"pyWitness\")\n",
    "dr <- pyw$DataRaw(\"./test1.csv\")\n",
    "dr$collapseContinuousData(column = \"confidence\",bins = c(-1,60,80,100),labels = c(1,2,3))\n",
    "dp <- dr$process()\n",
    "mf <- pyw$ModelFitIndependentObservation(dp)\n",
    "\n",
    "mf$fit()\n",
    "mf$printParameters()"
   ]
  },
  {
   "cell_type": "markdown",
   "id": "49648523-efb9-4116-b4a7-ca9fc263c274",
   "metadata": {},
   "source": [
    "### Plotting fit and models"
   ]
  },
  {
   "cell_type": "code",
   "execution_count": 24,
   "id": "5fb0a0fd-c7d0-4150-9c07-852172aaa314",
   "metadata": {},
   "outputs": [],
   "source": [
    "pyw <- import(\"pyWitness\")\n",
    "dr <- pyw$DataRaw(\"./test1.csv\")\n",
    "dr$collapseContinuousData(column = \"confidence\",bins = c(-1,60,80,100),labels = c(1,2,3))\n",
    "dp <- dr$process()\n",
    "dp$calculateConfidenceBootstrap(nBootstraps=as.integer(200))\n",
    "mf <- pyw$ModelFitIndependentObservation(dp)\n",
    "mf$setEqualVariance()\n",
    "mf$fit()"
   ]
  },
  {
   "cell_type": "code",
   "execution_count": 25,
   "id": "bd58b84a-be3a-477b-ab97-a9ba523fd71d",
   "metadata": {},
   "outputs": [
    {
     "data": {
      "text/plain": [
       "<matplotlib.legend.Legend object at 0x28d2bdbb0>"
      ]
     },
     "metadata": {},
     "output_type": "display_data"
    }
   ],
   "source": [
    "pyw <- import(\"pyWitness\")\n",
    "dr <- pyw$DataRaw(\"./test1.csv\")\n",
    "dr$collapseContinuousData(column = \"confidence\",bins = c(-1,60,80,100),labels = c(1,2,3))\n",
    "dp <- dr$process()\n",
    "dp$calculateConfidenceBootstrap(nBootstraps=as.integer(200))\n",
    "mf <- pyw$ModelFitIndependentObservation(dp)\n",
    "mf$setEqualVariance()\n",
    "mf$fit()\n",
    "dp$plotROC(label=\"Data\")\n",
    "mf$plotROC(label=\"Indep. obs. fit\")\n",
    "mpl$pyplot$legend()\n",
    "mpl$pyplot$show()"
   ]
  },
  {
   "cell_type": "code",
   "execution_count": 26,
   "id": "f0d3c1f0-070e-46b2-a508-bf6c27181306",
   "metadata": {},
   "outputs": [
    {
     "data": {
      "text/plain": [
       "<matplotlib.legend.Legend object at 0x28eefd2e0>"
      ]
     },
     "metadata": {},
     "output_type": "display_data"
    },
    {
     "data": {
      "text/html": [
       "1.7976601843421"
      ],
      "text/latex": [
       "1.7976601843421"
      ],
      "text/markdown": [
       "1.7976601843421"
      ],
      "text/plain": [
       "[1] 1.79766"
      ]
     },
     "metadata": {},
     "output_type": "display_data"
    }
   ],
   "source": [
    "pyw <- import(\"pyWitness\")\n",
    "dr <- pyw$DataRaw(\"./test1.csv\")\n",
    "dr$collapseContinuousData(column = \"confidence\",bins = c(-1,60,80,100),labels = c(1,2,3))\n",
    "dp <- dr$process()\n",
    "dp$calculateConfidenceBootstrap(nBootstraps=as.integer(200))\n",
    "mf <- pyw$ModelFitIndependentObservation(dp)\n",
    "mf$setEqualVariance()\n",
    "mf$fit()\n",
    "dp$plotROC(label=\"Data\")\n",
    "mf$plotROC(label=\"Indep. obs. fit\")\n",
    "mpl$pyplot$legend()\n",
    "mf$plotFit()\n",
    "mpl$pyplot$show()\n",
    "mf$d"
   ]
  },
  {
   "cell_type": "code",
   "execution_count": 27,
   "id": "5c51b51e-cb95-4539-8fc1-25a49d7a710b",
   "metadata": {},
   "outputs": [
    {
     "data": {
      "text/plain": [
       "<matplotlib.legend.Legend object at 0x28ee2bc70>"
      ]
     },
     "metadata": {},
     "output_type": "display_data"
    }
   ],
   "source": [
    "pyw <- import(\"pyWitness\")\n",
    "dr <- pyw$DataRaw(\"./test1.csv\")\n",
    "dr$collapseContinuousData(column = \"confidence\",bins = c(-1,60,80,100),labels = c(1,2,3))\n",
    "dp <- dr$process()\n",
    "dp$calculateConfidenceBootstrap(nBootstraps=as.integer(200))\n",
    "mf <- pyw$ModelFitIndependentObservation(dp)\n",
    "mf$setEqualVariance()\n",
    "mf$fit()\n",
    "dp$plotROC(label=\"Data\")\n",
    "mf$plotROC(label=\"Indep. obs. fit\")\n",
    "mf$plotFit()\n",
    "mpl$pyplot$legend()\n",
    "mpl$pyplot$show()"
   ]
  },
  {
   "cell_type": "code",
   "execution_count": 28,
   "id": "4165e375-6015-4dbf-9869-68ceb5c89dc2",
   "metadata": {},
   "outputs": [
    {
     "data": {
      "text/plain": [
       "<matplotlib.legend.Legend object at 0x291905fd0>"
      ]
     },
     "metadata": {},
     "output_type": "display_data"
    }
   ],
   "source": [
    "pyw <- import(\"pyWitness\")\n",
    "dr <- pyw$DataRaw(\"./test1.csv\")\n",
    "dr$collapseContinuousData(column = \"confidence\",bins = c(-1,60,80,100),labels = c(1,2,3))\n",
    "dp <- dr$process()\n",
    "dp$calculateConfidenceBootstrap(nBootstraps=as.integer(200))\n",
    "mf <- pyw$ModelFitIndependentObservation(dp)\n",
    "mf$setEqualVariance()\n",
    "mf$fit()\n",
    "dp$plotROC(label=\"Data\")\n",
    "mf$plotROC(label=\"Indep. obs. fit\")\n",
    "mf$plotFit()\n",
    "mpl$pyplot$legend()\n",
    "mf$plotModel()"
   ]
  },
  {
   "cell_type": "code",
   "execution_count": 29,
   "id": "21aa2739-035d-4498-b24a-5bcdd2b1b424",
   "metadata": {},
   "outputs": [
    {
     "data": {
      "text/html": [
       "1.7976601843421"
      ],
      "text/latex": [
       "1.7976601843421"
      ],
      "text/markdown": [
       "1.7976601843421"
      ],
      "text/plain": [
       "[1] 1.79766"
      ]
     },
     "metadata": {},
     "output_type": "display_data"
    }
   ],
   "source": [
    "mf$d"
   ]
  },
  {
   "cell_type": "code",
   "execution_count": 30,
   "id": "78b15717-8400-43d1-8180-183d60a3ba40",
   "metadata": {},
   "outputs": [],
   "source": [
    "pyw <- import(\"pyWitness\")\n",
    "dr <- pyw$DataRaw(\"./test1.csv\")\n",
    "dr$collapseContinuousData(column = \"confidence\",bins = c(-1,60,80,100),labels = c(1,2,3))\n",
    "dp <- dr$process()\n",
    "dp$calculateConfidenceBootstrap(nBootstraps=as.integer(200))\n",
    "#mf <- pyw$ModelFitIndependentObservation(dp)\n",
    "#mf$setEqualVariance()\n",
    "#mf$fit()\n",
    "#dp$plotCAC(label=\"Data\")\n",
    "#mf$plotCAC(label=\"Indep. obs. fit\")\n",
    "#mpl$pyplot$legend()\n",
    "#mpl$pyplot$mf$plotFit()\n",
    "#mpl$pyplot$show()"
   ]
  },
  {
   "cell_type": "markdown",
   "id": "047d4208-2d80-4b84-b375-1f13b7b26df5",
   "metadata": {},
   "source": [
    "### Writing results to file"
   ]
  },
  {
   "cell_type": "code",
   "execution_count": 31,
   "id": "c44670b2-6512-400b-bd6b-a58e3d8d06ed",
   "metadata": {},
   "outputs": [
    {
     "ename": "ERROR",
     "evalue": "Error in py_call_impl(callable, dots$args, dots$keywords): BlockingIOError: [Errno 35] Resource temporarily unavailable: './test1_pivot.xlsx'\n\n",
     "output_type": "error",
     "traceback": [
      "Error in py_call_impl(callable, dots$args, dots$keywords): BlockingIOError: [Errno 35] Resource temporarily unavailable: './test1_pivot.xlsx'\n\nTraceback:\n",
      "1. dp$writePivotExcel(\"./test1_pivot.xlsx\")",
      "2. py_call_impl(callable, dots$args, dots$keywords)"
     ]
    }
   ],
   "source": [
    "pyw <- import(\"pyWitness\")\n",
    "dr <- pyw$DataRaw(\"./test1.csv\")\n",
    "dp <- dr$process()\n",
    "dp$writePivotExcel(\"./test1_pivot.xlsx\")\n",
    "dp$writePivotCsv(\"./test1_pivot.csv\")\n",
    "dp$writeRatesExcel(\"./test1_rates.xlsx\")\n",
    "dp$writeRatesCsv(\"./test1_rates.csv\")"
   ]
  },
  {
   "cell_type": "markdown",
   "id": "8f2e8aa9-54e4-4ff6-905c-3c5ecd78048b",
   "metadata": {},
   "source": [
    "# Advanced tutorial"
   ]
  },
  {
   "cell_type": "markdown",
   "id": "1799a970-0143-4ba5-99c6-644dde5c022e",
   "metadata": {},
   "source": [
    "## Bootstrapping uncertainties/confidence limits"
   ]
  },
  {
   "cell_type": "code",
   "execution_count": 32,
   "id": "7a46e136-a7c3-4543-8c41-373056044697",
   "metadata": {},
   "outputs": [],
   "source": [
    "pyw <- import(\"pyWitness\")\n",
    "dr <- pyw$DataRaw(\"./test1.csv\")\n",
    "dr$collapseContinuousData(column = \"confidence\",bins = c(-1,60,80,100),labels=py_none())\n",
    "dp <- dr$process()\n",
    "dp$calculateConfidenceBootstrap(nBootstraps=as.integer(200), cl=95)\n",
    "dp$printPivot()\n",
    "dp$printRates()"
   ]
  },
  {
   "cell_type": "code",
   "execution_count": 33,
   "id": "58411dd6-6d98-40e2-9818-15c73732de9f",
   "metadata": {},
   "outputs": [],
   "source": [
    "pyw <- import(\"pyWitness\")\n",
    "dr <- pyw$DataRaw(\"./test1.csv\")\n",
    "dr$collapseContinuousData(column = \"confidence\",bins = c(-1,60,80,100),labels=py_none())\n",
    "dp <- dr$process()\n",
    "dp$calculateConfidenceBootstrap(nBootstraps=as.integer(200), cl=95)\n",
    "dp$plotROC()"
   ]
  },
  {
   "cell_type": "code",
   "execution_count": 34,
   "id": "1471c43e-cc5d-4415-a683-4c66c8e087d1",
   "metadata": {},
   "outputs": [],
   "source": [
    "pyw <- import(\"pyWitness\")\n",
    "dr <- pyw$DataRaw(\"./test1.csv\")\n",
    "dr$collapseContinuousData(column = \"confidence\",bins = c(-1,60,80,100),labels=py_none())\n",
    "dp <- dr$process()\n",
    "dp$calculateConfidenceBootstrap(nBootstraps=as.integer(200), cl=95)\n",
    "dp$plotCAC()"
   ]
  },
  {
   "cell_type": "markdown",
   "id": "e42544ce-c28f-45fb-a27f-406df6e275f3",
   "metadata": {},
   "source": [
    "### Loading raw data excel format"
   ]
  },
  {
   "cell_type": "code",
   "execution_count": 35,
   "id": "be60618f-0c5c-4b47-8c68-25a746298024",
   "metadata": {},
   "outputs": [],
   "source": [
    "pyw <- import(\"pyWitness\")\n",
    "dr <- pyw$DataRaw(\"./test2.xlsx\",excelSheet = \"raw data\")"
   ]
  },
  {
   "cell_type": "code",
   "execution_count": 36,
   "id": "2beb5341-4333-426e-ace5-9f1c03faca72",
   "metadata": {},
   "outputs": [],
   "source": [
    "pyw <- import(\"pyWitness\")\n",
    "dr <- pyw$DataRaw(\"./test2.csv\",\n",
    "                       dataMapping = list(\"lineupSize\"=\"lineup_size\",\n",
    "                                      \"targetLineup\"=\"culprit_present\",\n",
    "                                      \"targetPresent\"=\"present\",\n",
    "                                      \"targetAbsent\"=\"absent\",\n",
    "                                      \"responseType\"=\"id_type\",\n",
    "                                      \"suspectId\"=\"suspect\",\n",
    "                                      \"fillerId\"=\"filler\",\n",
    "                                      \"rejectId\"=\"reject\",\n",
    "                                      \"confidence\"=\"conf_level\"))"
   ]
  },
  {
   "cell_type": "code",
   "execution_count": 37,
   "id": "ae023bfb-7fa6-48cc-b296-ac7549e3f8a5",
   "metadata": {},
   "outputs": [
    {
     "data": {
      "text/html": [
       "717"
      ],
      "text/latex": [
       "717"
      ],
      "text/markdown": [
       "717"
      ],
      "text/plain": [
       "[1] 717"
      ]
     },
     "metadata": {},
     "output_type": "display_data"
    }
   ],
   "source": [
    "pyw <- import(\"pyWitness\")\n",
    "dr <- pyw$DataRaw(\"./test2.csv\")\n",
    "dr$cutData(column=\"previouslyViewedVideo\",value=1,option=\"keep\")\n",
    "dpControl <- dr$process(column=\"group\", condition=\"Control\")"
   ]
  },
  {
   "cell_type": "code",
   "execution_count": 38,
   "id": "df2d5425-c0b1-4406-bed2-8a75dbf06673",
   "metadata": {},
   "outputs": [
    {
     "data": {
      "text/html": [
       "717"
      ],
      "text/latex": [
       "717"
      ],
      "text/markdown": [
       "717"
      ],
      "text/plain": [
       "[1] 717"
      ]
     },
     "metadata": {},
     "output_type": "display_data"
    }
   ],
   "source": [
    "pyw <- import(\"pyWitness\")\n",
    "dr <- pyw$DataRaw(\"./test2.csv\")\n",
    "dr$cutData(column=\"previouslyViewedVideo\",value=1,option=\"keep\")\n",
    "dpControl <- dr$process(column=\"group\", condition=\"Control\")\n",
    "dpVerbal <- dr$process(column=\"group\", condition=\"Verbal\")"
   ]
  },
  {
   "cell_type": "code",
   "execution_count": 39,
   "id": "f34a5a68-ffd4-4142-9c52-bc7fa94c1910",
   "metadata": {},
   "outputs": [
    {
     "data": {
      "text/html": [
       "717"
      ],
      "text/latex": [
       "717"
      ],
      "text/markdown": [
       "717"
      ],
      "text/plain": [
       "[1] 717"
      ]
     },
     "metadata": {},
     "output_type": "display_data"
    }
   ],
   "source": [
    "pyw <- import(\"pyWitness\")\n",
    "dr <- pyw$DataRaw(\"./test2.csv\")\n",
    "dr$cutData(column=\"previouslyViewedVideo\",value=1,option=\"keep\")\n",
    "dpControl <- dr$process(column=\"group\", condition=\"Control\")\n",
    "dpVerbal <- dr$process(column=\"group\", condition=\"Verbal\")\n",
    "minRate <- min(dpControl$liberalTargetAbsentSuspectId,dpVerbal$liberalTargetAbsentSuspectId)"
   ]
  },
  {
   "cell_type": "markdown",
   "id": "5ed5773c-a1b6-4407-aee9-fc38eec8fb89",
   "metadata": {},
   "source": [
    "## Statistical (pAUC) comparision between two conditions"
   ]
  },
  {
   "cell_type": "code",
   "execution_count": 40,
   "id": "e80ff060-e885-41c1-b6c6-139b45222310",
   "metadata": {},
   "outputs": [
    {
     "data": {
      "text/html": [
       "717"
      ],
      "text/latex": [
       "717"
      ],
      "text/markdown": [
       "717"
      ],
      "text/plain": [
       "[1] 717"
      ]
     },
     "metadata": {},
     "output_type": "display_data"
    },
    {
     "data": {
      "text/html": [
       "<ol>\n",
       "\t<li>1.1766944865414</li>\n",
       "\t<li>0.239317469258151</li>\n",
       "</ol>\n"
      ],
      "text/latex": [
       "\\begin{enumerate}\n",
       "\\item 1.1766944865414\n",
       "\\item 0.239317469258151\n",
       "\\end{enumerate}\n"
      ],
      "text/markdown": [
       "1. 1.1766944865414\n",
       "2. 0.239317469258151\n",
       "\n",
       "\n"
      ],
      "text/plain": [
       "[[1]]\n",
       "[1] 1.176694\n",
       "\n",
       "[[2]]\n",
       "[1] 0.2393175\n"
      ]
     },
     "metadata": {},
     "output_type": "display_data"
    }
   ],
   "source": [
    "pyw <- import(\"pyWitness\")\n",
    "dr <- pyw$DataRaw(\"./test2.csv\")\n",
    "dr$cutData(column=\"previouslyViewedVideo\",value=1,option=\"keep\")\n",
    "dpControl = dr$process(column=\"group\", condition=\"Control\")\n",
    "dpVerbal = dr$process(column=\"group\", condition=\"Verbal\")\n",
    "minRate = min(dpControl$liberalTargetAbsentSuspectId,dpVerbal$liberalTargetAbsentSuspectId)\n",
    "dpControl = dr$process(\"group\",\"Control\",pAUCLiberal=minRate)\n",
    "dpControl$calculateConfidenceBootstrap(nBootstraps=as.integer(200))\n",
    "dpVerbal = dr$process(\"group\",\"Verbal\",pAUCLiberal=minRate)\n",
    "dpVerbal$calculateConfidenceBootstrap(nBootstraps=as.integer(200))\n",
    "dpControl$comparePAUC(dpVerbal)"
   ]
  },
  {
   "cell_type": "code",
   "execution_count": 41,
   "id": "c04bc04a-1a81-42c0-8c04-bf0d781da2f5",
   "metadata": {},
   "outputs": [],
   "source": [
    "dpControl$plotROC(label = \"Control data\", relativeFrequencyScale=400)\n",
    "dpVerbal$plotROC(label = \"Verbal data\", relativeFrequencyScale=400)"
   ]
  },
  {
   "cell_type": "code",
   "execution_count": 42,
   "id": "e4be558f-ae9e-4f3e-bb9f-66275b99a6e4",
   "metadata": {},
   "outputs": [],
   "source": [
    "pyw <- import(\"pyWitness\")\n",
    "dp = pyw$DataProcessed(\"./test1_processed.csv\", lineupSize = 6)"
   ]
  },
  {
   "cell_type": "markdown",
   "id": "2e04d676-a42c-4016-bb96-2416d18d20c5",
   "metadata": {},
   "source": [
    "### Using instances of raw data, processed data and model fits"
   ]
  },
  {
   "cell_type": "code",
   "execution_count": 43,
   "id": "f0296735-5cab-4725-81ff-5e2543d0cc54",
   "metadata": {},
   "outputs": [],
   "source": [
    "pyw <- import(\"pyWitness\")\n",
    "dr1 <- pyw$DataRaw(\"./test1.csv\")\n",
    "dr2 <- pyw$DataRaw(\"./test1.csv\")\n",
    "\n",
    "dr2$collapseContinuousData(column = \"confidence\",bins = c(-1,60,80,100),labels=py_none())\n",
    "\n",
    "dp1 <- dr1$process()\n",
    "dp2 <- dr2$process()\n",
    "\n",
    "dp1$plotCAC()\n",
    "dp2$plotCAC()"
   ]
  },
  {
   "cell_type": "markdown",
   "id": "deac301d-1ea2-4a80-9615-3b04261fd914",
   "metadata": {},
   "source": [
    "## Overlaying plots"
   ]
  },
  {
   "cell_type": "code",
   "execution_count": 44,
   "id": "8539cba5-016f-4303-8565-fa8b7d9f1050",
   "metadata": {},
   "outputs": [],
   "source": [
    "pyw <- import(\"pyWitness\")\n",
    "dp = pyw$DataProcessed(\"./test1_processed.csv\", lineupSize = 6)\n",
    "dp$printPivot()"
   ]
  },
  {
   "cell_type": "code",
   "execution_count": 45,
   "id": "7a3c80d5-9adf-4aff-9a32-be8cf78b6792",
   "metadata": {},
   "outputs": [
    {
     "data": {
      "text/plain": [
       "<matplotlib.legend.Legend object at 0x290356670>"
      ]
     },
     "metadata": {},
     "output_type": "display_data"
    }
   ],
   "source": [
    "pyw <- import(\"pyWitness\")\n",
    "dr1 <- pyw$DataRaw(\"./test1.csv\")\n",
    "dr2 <- pyw$DataRaw(\"./test1.csv\")\n",
    "\n",
    "dr2$collapseContinuousData(column = \"confidence\",bins = c(-1,60,80,100),labels=py_none())\n",
    "\n",
    "dp1 <- dr1$process()\n",
    "dp2 <- dr2$process()\n",
    "\n",
    "dp1$plotCAC(label=\"11 bins\")\n",
    "dp2$plotCAC(label = \"3 bins\")\n",
    "\n",
    "\n",
    "mpl$pyplot$legend()\n",
    "invisible(mpl$pyplot$ylim(0.50,1.00))"
   ]
  },
  {
   "cell_type": "markdown",
   "id": "6f1fa45e-2862-4978-a368-c92020fb8a50",
   "metadata": {},
   "source": [
    "### Generating data from signal detection model"
   ]
  },
  {
   "cell_type": "code",
   "execution_count": 46,
   "id": "283f9114-c195-462b-8efa-630101c2e250",
   "metadata": {},
   "outputs": [],
   "source": [
    "pyw <- import(\"pyWitness\")\n",
    "dr <- pyw$DataRaw(\"./test1.csv\")\n",
    "dr$collapseContinuousData(column = \"confidence\",bins = c(-1,60,80,100),labels=py_none())\n",
    "dp <- dr1$process()\n",
    "mf <- pyw$ModelFitIndependentObservation(dp, debug=TRUE)\n",
    "mf$setEqualVariance()\n",
    "mf$fit()\n",
    "dr1 = mf$generateRawData(nGenParticipants=10000)"
   ]
  },
  {
   "cell_type": "code",
   "execution_count": 47,
   "id": "17a92a7e-e492-4ea2-8665-1168456b42fe",
   "metadata": {},
   "outputs": [],
   "source": [
    "pyw <- import(\"pyWitness\")\n",
    "dr <- pyw$DataRaw(\"./test1.csv\")\n",
    "dr$collapseContinuousData(column = \"confidence\",bins = c(-1,60,80,100),labels=py_none())\n",
    "dp <- dr1$process()\n",
    "mf <- pyw$ModelFitIndependentObservation(dp, debug=TRUE)\n",
    "mf$setEqualVariance()\n",
    "mf$fit()\n",
    "dr1 <- mf$generateRawData(nGenParticipants=10000)\n",
    "dr1$writeCsv(\"./fileName.csv\")\n",
    "dr1$writeExcel(\"./fileName.xlsx\")"
   ]
  },
  {
   "cell_type": "code",
   "execution_count": 48,
   "id": "471ef225-a708-4a78-bc0d-9a12aad83865",
   "metadata": {},
   "outputs": [
    {
     "data": {
      "text/plain": [
       "<matplotlib.legend.Legend object at 0x29388a970>"
      ]
     },
     "metadata": {},
     "output_type": "display_data"
    }
   ],
   "source": [
    "pyw <- import(\"pyWitness\")\n",
    "dr <- pyw$DataRaw(\"./test1.csv\")\n",
    "dr$collapseContinuousData(column = \"confidence\",bins = c(-1,60,80,100),labels=py_none())\n",
    "dp <- dr1$process()\n",
    "mf <- pyw$ModelFitIndependentObservation(dp, debug=TRUE)\n",
    "mf$setEqualVariance()\n",
    "mf$fit()\n",
    "dr1 <- mf$generateRawData(nGenParticipants=10000)\n",
    "\n",
    "# Need to process the synthetic data\n",
    "dp1 <- dr1$process()\n",
    "\n",
    "# calculate uncertainties using bootstrap\n",
    "dp$calculateConfidenceBootstrap()\n",
    "dp1$calculateConfidenceBootstrap()\n",
    "\n",
    "# plot ROCs\n",
    "dp$plotROC(label=\"Experimental data\")\n",
    "dp1$plotROC(label=\"Simulated data\")\n",
    "mf$plotROC(label=\"Model fit\")\n",
    "\n",
    "mpl$pyplot$legend()\n",
    "mpl$pyplot$show()"
   ]
  },
  {
   "cell_type": "markdown",
   "id": "cd1fb3d8-de56-4607-9520-c5f520ed187b",
   "metadata": {},
   "source": [
    "### Power analysis"
   ]
  },
  {
   "cell_type": "code",
   "execution_count": null,
   "id": "3d76ae42-37f2-4a3b-9129-498bf3da19cd",
   "metadata": {},
   "outputs": [],
   "source": [
    "pyw <- import(\"pyWitness\")\n",
    "dr <- pyw$DataRaw(\"./test1.csv\")\n",
    "dr$collapseContinuousData(column = \"confidence\",bins = c(-1,60,80,100),labels=py_none())\n",
    "dp <- dr1$process()\n",
    "mf <- pyw$ModelFitIndependentObservation(dp, debug=TRUE)\n",
    "mf$setEqualVariance()\n",
    "mf$fit()\n",
    "\n",
    "for (ngen in list(500,1000,1500)) {\n",
    "    drSimulated <- mf$generateRawData(nGenParticipants = nGen)\n",
    "    dpSimulated <- drSimulated$process()\n",
    "    dpSimulated$calculateConfidenceBootstrap(nBootstraps=as.integer(2000))\n",
    "    print(nGen, dpSimulated$liberalTargetAbsentSuspectId,dpSimulated$pAUC, dpSimulated$pAUC_low, dpSimulated$pAUC_high)\n",
    "}"
   ]
  },
  {
   "cell_type": "code",
   "execution_count": null,
   "id": "4e1d0cef-261a-4b92-9496-9ec21872cf0c",
   "metadata": {},
   "outputs": [],
   "source": []
  }
 ],
 "metadata": {
  "kernelspec": {
   "display_name": "R",
   "language": "R",
   "name": "ir"
  },
  "language_info": {
   "codemirror_mode": "r",
   "file_extension": ".r",
   "mimetype": "text/x-r-source",
   "name": "R",
   "pygments_lexer": "r",
   "version": "4.1.3"
  }
 },
 "nbformat": 4,
 "nbformat_minor": 5
}
